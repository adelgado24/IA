{
 "cells": [
  {
   "cell_type": "markdown",
   "id": "1a02a5b4",
   "metadata": {
    "id": "1a02a5b4"
   },
   "source": [
    "# Exploratory Data Analysis with Python"
   ]
  },
  {
   "cell_type": "markdown",
   "id": "0038f885",
   "metadata": {
    "id": "0038f885"
   },
   "source": [
    "## Introducción a EDA"
   ]
  },
  {
   "cell_type": "markdown",
   "id": "06e808e6",
   "metadata": {
    "id": "06e808e6"
   },
   "source": [
    "El conjunto de datos que vamos a utilizar a lo largo de la sesión se puede encontrar en - https://www.kaggle.com/fedesoriano/stroke-prediction-dataset"
   ]
  },
  {
   "cell_type": "markdown",
   "id": "862638ee",
   "metadata": {
    "id": "862638ee"
   },
   "source": [
    "#### Importar las librerias requeridas"
   ]
  },
  {
   "cell_type": "code",
   "execution_count": 1,
   "id": "4044639a",
   "metadata": {
    "ExecuteTime": {
     "end_time": "2024-04-06T14:00:49.086706Z",
     "start_time": "2024-04-06T14:00:49.041694Z"
    },
    "id": "4044639a"
   },
   "outputs": [
    {
     "name": "stderr",
     "output_type": "stream",
     "text": [
      "C:\\Python\\Python310\\lib\\site-packages\\scipy\\__init__.py:169: UserWarning: A NumPy version >=1.18.5 and <1.26.0 is required for this version of SciPy (detected version 1.26.4\n",
      "  warnings.warn(f\"A NumPy version >={np_minversion} and <{np_maxversion}\"\n"
     ]
    }
   ],
   "source": [
    "import pandas as pd\n",
    "import numpy as np\n",
    "import matplotlib.pyplot as plt\n",
    "import seaborn as sns\n",
    "#import warnings\n",
    "\n",
    "#warnings.filterwarnings('ignore')\n",
    "sns.set(style=\"whitegrid\")\n",
    "%matplotlib inline\n",
    "#plt.rcParams['figure.figsize'] = [12, 8]"
   ]
  },
  {
   "cell_type": "markdown",
   "id": "48cfae68",
   "metadata": {
    "id": "48cfae68"
   },
   "source": [
    "#### Primera mirada al dataset!"
   ]
  },
  {
   "cell_type": "markdown",
   "id": "c4fb4626",
   "metadata": {
    "id": "c4fb4626"
   },
   "source": [
    "Aquí, vamos a utilizar pandas para leer el archivo csv descargado. A continuación, realice una primera mirada al dataset, identificando el número de filas y columnas en el conjunto de datos.\n",
    "\n"
   ]
  },
  {
   "cell_type": "code",
   "execution_count": 2,
   "id": "9e0b13ff",
   "metadata": {
    "ExecuteTime": {
     "end_time": "2024-04-06T14:00:49.118713Z",
     "start_time": "2024-04-06T14:00:49.087705Z"
    },
    "id": "9e0b13ff"
   },
   "outputs": [],
   "source": [
    "# Importar el dataset\n",
    "\n",
    "df = pd.read_csv(\"content/healthcare-dataset-stroke-data.csv\")"
   ]
  },
  {
   "cell_type": "code",
   "execution_count": 3,
   "id": "15740eaf",
   "metadata": {
    "ExecuteTime": {
     "end_time": "2024-04-06T14:00:49.134714Z",
     "start_time": "2024-04-06T14:00:49.120712Z"
    },
    "id": "15740eaf"
   },
   "outputs": [
    {
     "name": "stdout",
     "output_type": "stream",
     "text": [
      "The dataset has 5110 rows and 12 columns\n"
     ]
    }
   ],
   "source": [
    "# Identificar cantidad de filas y columnas\n",
    "print(f\"The dataset has {df.shape[0]} rows and {df.shape[1]} columns\")\n"
   ]
  },
  {
   "cell_type": "code",
   "execution_count": 4,
   "id": "56d74e22",
   "metadata": {
    "ExecuteTime": {
     "end_time": "2024-04-06T14:00:49.166723Z",
     "start_time": "2024-04-06T14:00:49.135715Z"
    },
    "id": "56d74e22"
   },
   "outputs": [
    {
     "data": {
      "text/html": [
       "<div>\n",
       "<style scoped>\n",
       "    .dataframe tbody tr th:only-of-type {\n",
       "        vertical-align: middle;\n",
       "    }\n",
       "\n",
       "    .dataframe tbody tr th {\n",
       "        vertical-align: top;\n",
       "    }\n",
       "\n",
       "    .dataframe thead th {\n",
       "        text-align: right;\n",
       "    }\n",
       "</style>\n",
       "<table border=\"1\" class=\"dataframe\">\n",
       "  <thead>\n",
       "    <tr style=\"text-align: right;\">\n",
       "      <th></th>\n",
       "      <th>id</th>\n",
       "      <th>gender</th>\n",
       "      <th>age</th>\n",
       "      <th>hypertension</th>\n",
       "      <th>heart_disease</th>\n",
       "      <th>ever_married</th>\n",
       "      <th>work_type</th>\n",
       "      <th>Residence_type</th>\n",
       "      <th>avg_glucose_level</th>\n",
       "      <th>bmi</th>\n",
       "      <th>smoking_status</th>\n",
       "      <th>stroke</th>\n",
       "    </tr>\n",
       "  </thead>\n",
       "  <tbody>\n",
       "    <tr>\n",
       "      <th>0</th>\n",
       "      <td>9046</td>\n",
       "      <td>Male</td>\n",
       "      <td>67.0</td>\n",
       "      <td>0</td>\n",
       "      <td>1</td>\n",
       "      <td>Yes</td>\n",
       "      <td>Private</td>\n",
       "      <td>Urban</td>\n",
       "      <td>228.69</td>\n",
       "      <td>36.6</td>\n",
       "      <td>formerly smoked</td>\n",
       "      <td>1</td>\n",
       "    </tr>\n",
       "    <tr>\n",
       "      <th>1</th>\n",
       "      <td>51676</td>\n",
       "      <td>Female</td>\n",
       "      <td>61.0</td>\n",
       "      <td>0</td>\n",
       "      <td>0</td>\n",
       "      <td>Yes</td>\n",
       "      <td>Self-employed</td>\n",
       "      <td>Rural</td>\n",
       "      <td>202.21</td>\n",
       "      <td>NaN</td>\n",
       "      <td>never smoked</td>\n",
       "      <td>1</td>\n",
       "    </tr>\n",
       "    <tr>\n",
       "      <th>2</th>\n",
       "      <td>31112</td>\n",
       "      <td>Male</td>\n",
       "      <td>80.0</td>\n",
       "      <td>0</td>\n",
       "      <td>1</td>\n",
       "      <td>Yes</td>\n",
       "      <td>Private</td>\n",
       "      <td>Rural</td>\n",
       "      <td>105.92</td>\n",
       "      <td>32.5</td>\n",
       "      <td>never smoked</td>\n",
       "      <td>1</td>\n",
       "    </tr>\n",
       "    <tr>\n",
       "      <th>3</th>\n",
       "      <td>60182</td>\n",
       "      <td>Female</td>\n",
       "      <td>49.0</td>\n",
       "      <td>0</td>\n",
       "      <td>0</td>\n",
       "      <td>Yes</td>\n",
       "      <td>Private</td>\n",
       "      <td>Urban</td>\n",
       "      <td>171.23</td>\n",
       "      <td>34.4</td>\n",
       "      <td>smokes</td>\n",
       "      <td>1</td>\n",
       "    </tr>\n",
       "    <tr>\n",
       "      <th>4</th>\n",
       "      <td>1665</td>\n",
       "      <td>Female</td>\n",
       "      <td>79.0</td>\n",
       "      <td>1</td>\n",
       "      <td>0</td>\n",
       "      <td>Yes</td>\n",
       "      <td>Self-employed</td>\n",
       "      <td>Rural</td>\n",
       "      <td>174.12</td>\n",
       "      <td>24.0</td>\n",
       "      <td>never smoked</td>\n",
       "      <td>1</td>\n",
       "    </tr>\n",
       "  </tbody>\n",
       "</table>\n",
       "</div>"
      ],
      "text/plain": [
       "      id  gender   age  hypertension  heart_disease ever_married  \\\n",
       "0   9046    Male  67.0             0              1          Yes   \n",
       "1  51676  Female  61.0             0              0          Yes   \n",
       "2  31112    Male  80.0             0              1          Yes   \n",
       "3  60182  Female  49.0             0              0          Yes   \n",
       "4   1665  Female  79.0             1              0          Yes   \n",
       "\n",
       "       work_type Residence_type  avg_glucose_level   bmi   smoking_status  \\\n",
       "0        Private          Urban             228.69  36.6  formerly smoked   \n",
       "1  Self-employed          Rural             202.21   NaN     never smoked   \n",
       "2        Private          Rural             105.92  32.5     never smoked   \n",
       "3        Private          Urban             171.23  34.4           smokes   \n",
       "4  Self-employed          Rural             174.12  24.0     never smoked   \n",
       "\n",
       "   stroke  \n",
       "0       1  \n",
       "1       1  \n",
       "2       1  \n",
       "3       1  \n",
       "4       1  "
      ]
     },
     "execution_count": 4,
     "metadata": {},
     "output_type": "execute_result"
    }
   ],
   "source": [
    "# Revisar los primeros registroc\n",
    "df.head()\n"
   ]
  },
  {
   "cell_type": "code",
   "execution_count": 5,
   "id": "40d91428",
   "metadata": {
    "ExecuteTime": {
     "end_time": "2024-04-06T14:00:49.182726Z",
     "start_time": "2024-04-06T14:00:49.167723Z"
    },
    "id": "40d91428",
    "scrolled": false
   },
   "outputs": [
    {
     "data": {
      "text/html": [
       "<div>\n",
       "<style scoped>\n",
       "    .dataframe tbody tr th:only-of-type {\n",
       "        vertical-align: middle;\n",
       "    }\n",
       "\n",
       "    .dataframe tbody tr th {\n",
       "        vertical-align: top;\n",
       "    }\n",
       "\n",
       "    .dataframe thead th {\n",
       "        text-align: right;\n",
       "    }\n",
       "</style>\n",
       "<table border=\"1\" class=\"dataframe\">\n",
       "  <thead>\n",
       "    <tr style=\"text-align: right;\">\n",
       "      <th></th>\n",
       "      <th>id</th>\n",
       "      <th>gender</th>\n",
       "      <th>age</th>\n",
       "      <th>hypertension</th>\n",
       "      <th>heart_disease</th>\n",
       "      <th>ever_married</th>\n",
       "      <th>work_type</th>\n",
       "      <th>Residence_type</th>\n",
       "      <th>avg_glucose_level</th>\n",
       "      <th>bmi</th>\n",
       "      <th>smoking_status</th>\n",
       "      <th>stroke</th>\n",
       "    </tr>\n",
       "  </thead>\n",
       "  <tbody>\n",
       "    <tr>\n",
       "      <th>5105</th>\n",
       "      <td>18234</td>\n",
       "      <td>Female</td>\n",
       "      <td>80.0</td>\n",
       "      <td>1</td>\n",
       "      <td>0</td>\n",
       "      <td>Yes</td>\n",
       "      <td>Private</td>\n",
       "      <td>Urban</td>\n",
       "      <td>83.75</td>\n",
       "      <td>NaN</td>\n",
       "      <td>never smoked</td>\n",
       "      <td>0</td>\n",
       "    </tr>\n",
       "    <tr>\n",
       "      <th>5106</th>\n",
       "      <td>44873</td>\n",
       "      <td>Female</td>\n",
       "      <td>81.0</td>\n",
       "      <td>0</td>\n",
       "      <td>0</td>\n",
       "      <td>Yes</td>\n",
       "      <td>Self-employed</td>\n",
       "      <td>Urban</td>\n",
       "      <td>125.20</td>\n",
       "      <td>40.0</td>\n",
       "      <td>never smoked</td>\n",
       "      <td>0</td>\n",
       "    </tr>\n",
       "    <tr>\n",
       "      <th>5107</th>\n",
       "      <td>19723</td>\n",
       "      <td>Female</td>\n",
       "      <td>35.0</td>\n",
       "      <td>0</td>\n",
       "      <td>0</td>\n",
       "      <td>Yes</td>\n",
       "      <td>Self-employed</td>\n",
       "      <td>Rural</td>\n",
       "      <td>82.99</td>\n",
       "      <td>30.6</td>\n",
       "      <td>never smoked</td>\n",
       "      <td>0</td>\n",
       "    </tr>\n",
       "    <tr>\n",
       "      <th>5108</th>\n",
       "      <td>37544</td>\n",
       "      <td>Male</td>\n",
       "      <td>51.0</td>\n",
       "      <td>0</td>\n",
       "      <td>0</td>\n",
       "      <td>Yes</td>\n",
       "      <td>Private</td>\n",
       "      <td>Rural</td>\n",
       "      <td>166.29</td>\n",
       "      <td>25.6</td>\n",
       "      <td>formerly smoked</td>\n",
       "      <td>0</td>\n",
       "    </tr>\n",
       "    <tr>\n",
       "      <th>5109</th>\n",
       "      <td>44679</td>\n",
       "      <td>Female</td>\n",
       "      <td>44.0</td>\n",
       "      <td>0</td>\n",
       "      <td>0</td>\n",
       "      <td>Yes</td>\n",
       "      <td>Govt_job</td>\n",
       "      <td>Urban</td>\n",
       "      <td>85.28</td>\n",
       "      <td>26.2</td>\n",
       "      <td>Unknown</td>\n",
       "      <td>0</td>\n",
       "    </tr>\n",
       "  </tbody>\n",
       "</table>\n",
       "</div>"
      ],
      "text/plain": [
       "         id  gender   age  hypertension  heart_disease ever_married  \\\n",
       "5105  18234  Female  80.0             1              0          Yes   \n",
       "5106  44873  Female  81.0             0              0          Yes   \n",
       "5107  19723  Female  35.0             0              0          Yes   \n",
       "5108  37544    Male  51.0             0              0          Yes   \n",
       "5109  44679  Female  44.0             0              0          Yes   \n",
       "\n",
       "          work_type Residence_type  avg_glucose_level   bmi   smoking_status  \\\n",
       "5105        Private          Urban              83.75   NaN     never smoked   \n",
       "5106  Self-employed          Urban             125.20  40.0     never smoked   \n",
       "5107  Self-employed          Rural              82.99  30.6     never smoked   \n",
       "5108        Private          Rural             166.29  25.6  formerly smoked   \n",
       "5109       Govt_job          Urban              85.28  26.2          Unknown   \n",
       "\n",
       "      stroke  \n",
       "5105       0  \n",
       "5106       0  \n",
       "5107       0  \n",
       "5108       0  \n",
       "5109       0  "
      ]
     },
     "execution_count": 5,
     "metadata": {},
     "output_type": "execute_result"
    }
   ],
   "source": [
    "# Ultimas filas\n",
    "df.tail()\n"
   ]
  },
  {
   "cell_type": "code",
   "execution_count": 6,
   "id": "f65401d0",
   "metadata": {
    "ExecuteTime": {
     "end_time": "2024-04-06T14:00:49.260744Z",
     "start_time": "2024-04-06T14:00:49.186727Z"
    },
    "id": "f65401d0"
   },
   "outputs": [
    {
     "data": {
      "text/html": [
       "<div>\n",
       "<style scoped>\n",
       "    .dataframe tbody tr th:only-of-type {\n",
       "        vertical-align: middle;\n",
       "    }\n",
       "\n",
       "    .dataframe tbody tr th {\n",
       "        vertical-align: top;\n",
       "    }\n",
       "\n",
       "    .dataframe thead th {\n",
       "        text-align: right;\n",
       "    }\n",
       "</style>\n",
       "<table border=\"1\" class=\"dataframe\">\n",
       "  <thead>\n",
       "    <tr style=\"text-align: right;\">\n",
       "      <th></th>\n",
       "      <th>id</th>\n",
       "      <th>gender</th>\n",
       "      <th>age</th>\n",
       "      <th>hypertension</th>\n",
       "      <th>heart_disease</th>\n",
       "      <th>ever_married</th>\n",
       "      <th>work_type</th>\n",
       "      <th>Residence_type</th>\n",
       "      <th>avg_glucose_level</th>\n",
       "      <th>bmi</th>\n",
       "      <th>smoking_status</th>\n",
       "      <th>stroke</th>\n",
       "    </tr>\n",
       "  </thead>\n",
       "  <tbody>\n",
       "    <tr>\n",
       "      <th>0</th>\n",
       "      <td>9046</td>\n",
       "      <td>Male</td>\n",
       "      <td>67.0</td>\n",
       "      <td>0</td>\n",
       "      <td>1</td>\n",
       "      <td>Yes</td>\n",
       "      <td>Private</td>\n",
       "      <td>Urban</td>\n",
       "      <td>228.69</td>\n",
       "      <td>36.6</td>\n",
       "      <td>formerly smoked</td>\n",
       "      <td>1</td>\n",
       "    </tr>\n",
       "    <tr>\n",
       "      <th>1</th>\n",
       "      <td>51676</td>\n",
       "      <td>Female</td>\n",
       "      <td>61.0</td>\n",
       "      <td>0</td>\n",
       "      <td>0</td>\n",
       "      <td>Yes</td>\n",
       "      <td>Self-employed</td>\n",
       "      <td>Rural</td>\n",
       "      <td>202.21</td>\n",
       "      <td>NaN</td>\n",
       "      <td>never smoked</td>\n",
       "      <td>1</td>\n",
       "    </tr>\n",
       "    <tr>\n",
       "      <th>2</th>\n",
       "      <td>31112</td>\n",
       "      <td>Male</td>\n",
       "      <td>80.0</td>\n",
       "      <td>0</td>\n",
       "      <td>1</td>\n",
       "      <td>Yes</td>\n",
       "      <td>Private</td>\n",
       "      <td>Rural</td>\n",
       "      <td>105.92</td>\n",
       "      <td>32.5</td>\n",
       "      <td>never smoked</td>\n",
       "      <td>1</td>\n",
       "    </tr>\n",
       "    <tr>\n",
       "      <th>3</th>\n",
       "      <td>60182</td>\n",
       "      <td>Female</td>\n",
       "      <td>49.0</td>\n",
       "      <td>0</td>\n",
       "      <td>0</td>\n",
       "      <td>Yes</td>\n",
       "      <td>Private</td>\n",
       "      <td>Urban</td>\n",
       "      <td>171.23</td>\n",
       "      <td>34.4</td>\n",
       "      <td>smokes</td>\n",
       "      <td>1</td>\n",
       "    </tr>\n",
       "    <tr>\n",
       "      <th>4</th>\n",
       "      <td>1665</td>\n",
       "      <td>Female</td>\n",
       "      <td>79.0</td>\n",
       "      <td>1</td>\n",
       "      <td>0</td>\n",
       "      <td>Yes</td>\n",
       "      <td>Self-employed</td>\n",
       "      <td>Rural</td>\n",
       "      <td>174.12</td>\n",
       "      <td>24.0</td>\n",
       "      <td>never smoked</td>\n",
       "      <td>1</td>\n",
       "    </tr>\n",
       "    <tr>\n",
       "      <th>...</th>\n",
       "      <td>...</td>\n",
       "      <td>...</td>\n",
       "      <td>...</td>\n",
       "      <td>...</td>\n",
       "      <td>...</td>\n",
       "      <td>...</td>\n",
       "      <td>...</td>\n",
       "      <td>...</td>\n",
       "      <td>...</td>\n",
       "      <td>...</td>\n",
       "      <td>...</td>\n",
       "      <td>...</td>\n",
       "    </tr>\n",
       "    <tr>\n",
       "      <th>5105</th>\n",
       "      <td>18234</td>\n",
       "      <td>Female</td>\n",
       "      <td>80.0</td>\n",
       "      <td>1</td>\n",
       "      <td>0</td>\n",
       "      <td>Yes</td>\n",
       "      <td>Private</td>\n",
       "      <td>Urban</td>\n",
       "      <td>83.75</td>\n",
       "      <td>NaN</td>\n",
       "      <td>never smoked</td>\n",
       "      <td>0</td>\n",
       "    </tr>\n",
       "    <tr>\n",
       "      <th>5106</th>\n",
       "      <td>44873</td>\n",
       "      <td>Female</td>\n",
       "      <td>81.0</td>\n",
       "      <td>0</td>\n",
       "      <td>0</td>\n",
       "      <td>Yes</td>\n",
       "      <td>Self-employed</td>\n",
       "      <td>Urban</td>\n",
       "      <td>125.20</td>\n",
       "      <td>40.0</td>\n",
       "      <td>never smoked</td>\n",
       "      <td>0</td>\n",
       "    </tr>\n",
       "    <tr>\n",
       "      <th>5107</th>\n",
       "      <td>19723</td>\n",
       "      <td>Female</td>\n",
       "      <td>35.0</td>\n",
       "      <td>0</td>\n",
       "      <td>0</td>\n",
       "      <td>Yes</td>\n",
       "      <td>Self-employed</td>\n",
       "      <td>Rural</td>\n",
       "      <td>82.99</td>\n",
       "      <td>30.6</td>\n",
       "      <td>never smoked</td>\n",
       "      <td>0</td>\n",
       "    </tr>\n",
       "    <tr>\n",
       "      <th>5108</th>\n",
       "      <td>37544</td>\n",
       "      <td>Male</td>\n",
       "      <td>51.0</td>\n",
       "      <td>0</td>\n",
       "      <td>0</td>\n",
       "      <td>Yes</td>\n",
       "      <td>Private</td>\n",
       "      <td>Rural</td>\n",
       "      <td>166.29</td>\n",
       "      <td>25.6</td>\n",
       "      <td>formerly smoked</td>\n",
       "      <td>0</td>\n",
       "    </tr>\n",
       "    <tr>\n",
       "      <th>5109</th>\n",
       "      <td>44679</td>\n",
       "      <td>Female</td>\n",
       "      <td>44.0</td>\n",
       "      <td>0</td>\n",
       "      <td>0</td>\n",
       "      <td>Yes</td>\n",
       "      <td>Govt_job</td>\n",
       "      <td>Urban</td>\n",
       "      <td>85.28</td>\n",
       "      <td>26.2</td>\n",
       "      <td>Unknown</td>\n",
       "      <td>0</td>\n",
       "    </tr>\n",
       "  </tbody>\n",
       "</table>\n",
       "<p>5110 rows × 12 columns</p>\n",
       "</div>"
      ],
      "text/plain": [
       "         id  gender   age  hypertension  heart_disease ever_married  \\\n",
       "0      9046    Male  67.0             0              1          Yes   \n",
       "1     51676  Female  61.0             0              0          Yes   \n",
       "2     31112    Male  80.0             0              1          Yes   \n",
       "3     60182  Female  49.0             0              0          Yes   \n",
       "4      1665  Female  79.0             1              0          Yes   \n",
       "...     ...     ...   ...           ...            ...          ...   \n",
       "5105  18234  Female  80.0             1              0          Yes   \n",
       "5106  44873  Female  81.0             0              0          Yes   \n",
       "5107  19723  Female  35.0             0              0          Yes   \n",
       "5108  37544    Male  51.0             0              0          Yes   \n",
       "5109  44679  Female  44.0             0              0          Yes   \n",
       "\n",
       "          work_type Residence_type  avg_glucose_level   bmi   smoking_status  \\\n",
       "0           Private          Urban             228.69  36.6  formerly smoked   \n",
       "1     Self-employed          Rural             202.21   NaN     never smoked   \n",
       "2           Private          Rural             105.92  32.5     never smoked   \n",
       "3           Private          Urban             171.23  34.4           smokes   \n",
       "4     Self-employed          Rural             174.12  24.0     never smoked   \n",
       "...             ...            ...                ...   ...              ...   \n",
       "5105        Private          Urban              83.75   NaN     never smoked   \n",
       "5106  Self-employed          Urban             125.20  40.0     never smoked   \n",
       "5107  Self-employed          Rural              82.99  30.6     never smoked   \n",
       "5108        Private          Rural             166.29  25.6  formerly smoked   \n",
       "5109       Govt_job          Urban              85.28  26.2          Unknown   \n",
       "\n",
       "      stroke  \n",
       "0          1  \n",
       "1          1  \n",
       "2          1  \n",
       "3          1  \n",
       "4          1  \n",
       "...      ...  \n",
       "5105       0  \n",
       "5106       0  \n",
       "5107       0  \n",
       "5108       0  \n",
       "5109       0  \n",
       "\n",
       "[5110 rows x 12 columns]"
      ]
     },
     "execution_count": 6,
     "metadata": {},
     "output_type": "execute_result"
    }
   ],
   "source": [
    "# Ver el dataset completo\n",
    "df\n"
   ]
  },
  {
   "cell_type": "code",
   "execution_count": 7,
   "id": "c5ca95bc",
   "metadata": {
    "ExecuteTime": {
     "end_time": "2024-04-06T14:00:49.292750Z",
     "start_time": "2024-04-06T14:00:49.261744Z"
    },
    "id": "c5ca95bc",
    "scrolled": true
   },
   "outputs": [
    {
     "data": {
      "text/html": [
       "<div>\n",
       "<style scoped>\n",
       "    .dataframe tbody tr th:only-of-type {\n",
       "        vertical-align: middle;\n",
       "    }\n",
       "\n",
       "    .dataframe tbody tr th {\n",
       "        vertical-align: top;\n",
       "    }\n",
       "\n",
       "    .dataframe thead th {\n",
       "        text-align: right;\n",
       "    }\n",
       "</style>\n",
       "<table border=\"1\" class=\"dataframe\">\n",
       "  <thead>\n",
       "    <tr style=\"text-align: right;\">\n",
       "      <th></th>\n",
       "      <th>0</th>\n",
       "      <th>1</th>\n",
       "      <th>2</th>\n",
       "      <th>3</th>\n",
       "      <th>4</th>\n",
       "      <th>5</th>\n",
       "      <th>6</th>\n",
       "      <th>7</th>\n",
       "      <th>8</th>\n",
       "      <th>9</th>\n",
       "      <th>...</th>\n",
       "      <th>5100</th>\n",
       "      <th>5101</th>\n",
       "      <th>5102</th>\n",
       "      <th>5103</th>\n",
       "      <th>5104</th>\n",
       "      <th>5105</th>\n",
       "      <th>5106</th>\n",
       "      <th>5107</th>\n",
       "      <th>5108</th>\n",
       "      <th>5109</th>\n",
       "    </tr>\n",
       "  </thead>\n",
       "  <tbody>\n",
       "    <tr>\n",
       "      <th>id</th>\n",
       "      <td>9046</td>\n",
       "      <td>51676</td>\n",
       "      <td>31112</td>\n",
       "      <td>60182</td>\n",
       "      <td>1665</td>\n",
       "      <td>56669</td>\n",
       "      <td>53882</td>\n",
       "      <td>10434</td>\n",
       "      <td>27419</td>\n",
       "      <td>60491</td>\n",
       "      <td>...</td>\n",
       "      <td>68398</td>\n",
       "      <td>36901</td>\n",
       "      <td>45010</td>\n",
       "      <td>22127</td>\n",
       "      <td>14180</td>\n",
       "      <td>18234</td>\n",
       "      <td>44873</td>\n",
       "      <td>19723</td>\n",
       "      <td>37544</td>\n",
       "      <td>44679</td>\n",
       "    </tr>\n",
       "    <tr>\n",
       "      <th>gender</th>\n",
       "      <td>Male</td>\n",
       "      <td>Female</td>\n",
       "      <td>Male</td>\n",
       "      <td>Female</td>\n",
       "      <td>Female</td>\n",
       "      <td>Male</td>\n",
       "      <td>Male</td>\n",
       "      <td>Female</td>\n",
       "      <td>Female</td>\n",
       "      <td>Female</td>\n",
       "      <td>...</td>\n",
       "      <td>Male</td>\n",
       "      <td>Female</td>\n",
       "      <td>Female</td>\n",
       "      <td>Female</td>\n",
       "      <td>Female</td>\n",
       "      <td>Female</td>\n",
       "      <td>Female</td>\n",
       "      <td>Female</td>\n",
       "      <td>Male</td>\n",
       "      <td>Female</td>\n",
       "    </tr>\n",
       "    <tr>\n",
       "      <th>age</th>\n",
       "      <td>67.0</td>\n",
       "      <td>61.0</td>\n",
       "      <td>80.0</td>\n",
       "      <td>49.0</td>\n",
       "      <td>79.0</td>\n",
       "      <td>81.0</td>\n",
       "      <td>74.0</td>\n",
       "      <td>69.0</td>\n",
       "      <td>59.0</td>\n",
       "      <td>78.0</td>\n",
       "      <td>...</td>\n",
       "      <td>82.0</td>\n",
       "      <td>45.0</td>\n",
       "      <td>57.0</td>\n",
       "      <td>18.0</td>\n",
       "      <td>13.0</td>\n",
       "      <td>80.0</td>\n",
       "      <td>81.0</td>\n",
       "      <td>35.0</td>\n",
       "      <td>51.0</td>\n",
       "      <td>44.0</td>\n",
       "    </tr>\n",
       "    <tr>\n",
       "      <th>hypertension</th>\n",
       "      <td>0</td>\n",
       "      <td>0</td>\n",
       "      <td>0</td>\n",
       "      <td>0</td>\n",
       "      <td>1</td>\n",
       "      <td>0</td>\n",
       "      <td>1</td>\n",
       "      <td>0</td>\n",
       "      <td>0</td>\n",
       "      <td>0</td>\n",
       "      <td>...</td>\n",
       "      <td>1</td>\n",
       "      <td>0</td>\n",
       "      <td>0</td>\n",
       "      <td>0</td>\n",
       "      <td>0</td>\n",
       "      <td>1</td>\n",
       "      <td>0</td>\n",
       "      <td>0</td>\n",
       "      <td>0</td>\n",
       "      <td>0</td>\n",
       "    </tr>\n",
       "    <tr>\n",
       "      <th>heart_disease</th>\n",
       "      <td>1</td>\n",
       "      <td>0</td>\n",
       "      <td>1</td>\n",
       "      <td>0</td>\n",
       "      <td>0</td>\n",
       "      <td>0</td>\n",
       "      <td>1</td>\n",
       "      <td>0</td>\n",
       "      <td>0</td>\n",
       "      <td>0</td>\n",
       "      <td>...</td>\n",
       "      <td>0</td>\n",
       "      <td>0</td>\n",
       "      <td>0</td>\n",
       "      <td>0</td>\n",
       "      <td>0</td>\n",
       "      <td>0</td>\n",
       "      <td>0</td>\n",
       "      <td>0</td>\n",
       "      <td>0</td>\n",
       "      <td>0</td>\n",
       "    </tr>\n",
       "    <tr>\n",
       "      <th>ever_married</th>\n",
       "      <td>Yes</td>\n",
       "      <td>Yes</td>\n",
       "      <td>Yes</td>\n",
       "      <td>Yes</td>\n",
       "      <td>Yes</td>\n",
       "      <td>Yes</td>\n",
       "      <td>Yes</td>\n",
       "      <td>No</td>\n",
       "      <td>Yes</td>\n",
       "      <td>Yes</td>\n",
       "      <td>...</td>\n",
       "      <td>Yes</td>\n",
       "      <td>Yes</td>\n",
       "      <td>Yes</td>\n",
       "      <td>No</td>\n",
       "      <td>No</td>\n",
       "      <td>Yes</td>\n",
       "      <td>Yes</td>\n",
       "      <td>Yes</td>\n",
       "      <td>Yes</td>\n",
       "      <td>Yes</td>\n",
       "    </tr>\n",
       "    <tr>\n",
       "      <th>work_type</th>\n",
       "      <td>Private</td>\n",
       "      <td>Self-employed</td>\n",
       "      <td>Private</td>\n",
       "      <td>Private</td>\n",
       "      <td>Self-employed</td>\n",
       "      <td>Private</td>\n",
       "      <td>Private</td>\n",
       "      <td>Private</td>\n",
       "      <td>Private</td>\n",
       "      <td>Private</td>\n",
       "      <td>...</td>\n",
       "      <td>Self-employed</td>\n",
       "      <td>Private</td>\n",
       "      <td>Private</td>\n",
       "      <td>Private</td>\n",
       "      <td>children</td>\n",
       "      <td>Private</td>\n",
       "      <td>Self-employed</td>\n",
       "      <td>Self-employed</td>\n",
       "      <td>Private</td>\n",
       "      <td>Govt_job</td>\n",
       "    </tr>\n",
       "    <tr>\n",
       "      <th>Residence_type</th>\n",
       "      <td>Urban</td>\n",
       "      <td>Rural</td>\n",
       "      <td>Rural</td>\n",
       "      <td>Urban</td>\n",
       "      <td>Rural</td>\n",
       "      <td>Urban</td>\n",
       "      <td>Rural</td>\n",
       "      <td>Urban</td>\n",
       "      <td>Rural</td>\n",
       "      <td>Urban</td>\n",
       "      <td>...</td>\n",
       "      <td>Rural</td>\n",
       "      <td>Urban</td>\n",
       "      <td>Rural</td>\n",
       "      <td>Urban</td>\n",
       "      <td>Rural</td>\n",
       "      <td>Urban</td>\n",
       "      <td>Urban</td>\n",
       "      <td>Rural</td>\n",
       "      <td>Rural</td>\n",
       "      <td>Urban</td>\n",
       "    </tr>\n",
       "    <tr>\n",
       "      <th>avg_glucose_level</th>\n",
       "      <td>228.69</td>\n",
       "      <td>202.21</td>\n",
       "      <td>105.92</td>\n",
       "      <td>171.23</td>\n",
       "      <td>174.12</td>\n",
       "      <td>186.21</td>\n",
       "      <td>70.09</td>\n",
       "      <td>94.39</td>\n",
       "      <td>76.15</td>\n",
       "      <td>58.57</td>\n",
       "      <td>...</td>\n",
       "      <td>71.97</td>\n",
       "      <td>97.95</td>\n",
       "      <td>77.93</td>\n",
       "      <td>82.85</td>\n",
       "      <td>103.08</td>\n",
       "      <td>83.75</td>\n",
       "      <td>125.2</td>\n",
       "      <td>82.99</td>\n",
       "      <td>166.29</td>\n",
       "      <td>85.28</td>\n",
       "    </tr>\n",
       "    <tr>\n",
       "      <th>bmi</th>\n",
       "      <td>36.6</td>\n",
       "      <td>NaN</td>\n",
       "      <td>32.5</td>\n",
       "      <td>34.4</td>\n",
       "      <td>24.0</td>\n",
       "      <td>29.0</td>\n",
       "      <td>27.4</td>\n",
       "      <td>22.8</td>\n",
       "      <td>NaN</td>\n",
       "      <td>24.2</td>\n",
       "      <td>...</td>\n",
       "      <td>28.3</td>\n",
       "      <td>24.5</td>\n",
       "      <td>21.7</td>\n",
       "      <td>46.9</td>\n",
       "      <td>18.6</td>\n",
       "      <td>NaN</td>\n",
       "      <td>40.0</td>\n",
       "      <td>30.6</td>\n",
       "      <td>25.6</td>\n",
       "      <td>26.2</td>\n",
       "    </tr>\n",
       "    <tr>\n",
       "      <th>smoking_status</th>\n",
       "      <td>formerly smoked</td>\n",
       "      <td>never smoked</td>\n",
       "      <td>never smoked</td>\n",
       "      <td>smokes</td>\n",
       "      <td>never smoked</td>\n",
       "      <td>formerly smoked</td>\n",
       "      <td>never smoked</td>\n",
       "      <td>never smoked</td>\n",
       "      <td>Unknown</td>\n",
       "      <td>Unknown</td>\n",
       "      <td>...</td>\n",
       "      <td>never smoked</td>\n",
       "      <td>Unknown</td>\n",
       "      <td>never smoked</td>\n",
       "      <td>Unknown</td>\n",
       "      <td>Unknown</td>\n",
       "      <td>never smoked</td>\n",
       "      <td>never smoked</td>\n",
       "      <td>never smoked</td>\n",
       "      <td>formerly smoked</td>\n",
       "      <td>Unknown</td>\n",
       "    </tr>\n",
       "    <tr>\n",
       "      <th>stroke</th>\n",
       "      <td>1</td>\n",
       "      <td>1</td>\n",
       "      <td>1</td>\n",
       "      <td>1</td>\n",
       "      <td>1</td>\n",
       "      <td>1</td>\n",
       "      <td>1</td>\n",
       "      <td>1</td>\n",
       "      <td>1</td>\n",
       "      <td>1</td>\n",
       "      <td>...</td>\n",
       "      <td>0</td>\n",
       "      <td>0</td>\n",
       "      <td>0</td>\n",
       "      <td>0</td>\n",
       "      <td>0</td>\n",
       "      <td>0</td>\n",
       "      <td>0</td>\n",
       "      <td>0</td>\n",
       "      <td>0</td>\n",
       "      <td>0</td>\n",
       "    </tr>\n",
       "  </tbody>\n",
       "</table>\n",
       "<p>12 rows × 5110 columns</p>\n",
       "</div>"
      ],
      "text/plain": [
       "                              0              1             2        3     \\\n",
       "id                            9046          51676         31112    60182   \n",
       "gender                        Male         Female          Male   Female   \n",
       "age                           67.0           61.0          80.0     49.0   \n",
       "hypertension                     0              0             0        0   \n",
       "heart_disease                    1              0             1        0   \n",
       "ever_married                   Yes            Yes           Yes      Yes   \n",
       "work_type                  Private  Self-employed       Private  Private   \n",
       "Residence_type               Urban          Rural         Rural    Urban   \n",
       "avg_glucose_level           228.69         202.21        105.92   171.23   \n",
       "bmi                           36.6            NaN          32.5     34.4   \n",
       "smoking_status     formerly smoked   never smoked  never smoked   smokes   \n",
       "stroke                           1              1             1        1   \n",
       "\n",
       "                            4                5             6             7     \\\n",
       "id                          1665            56669         53882         10434   \n",
       "gender                    Female             Male          Male        Female   \n",
       "age                         79.0             81.0          74.0          69.0   \n",
       "hypertension                   1                0             1             0   \n",
       "heart_disease                  0                0             1             0   \n",
       "ever_married                 Yes              Yes           Yes            No   \n",
       "work_type          Self-employed          Private       Private       Private   \n",
       "Residence_type             Rural            Urban         Rural         Urban   \n",
       "avg_glucose_level         174.12           186.21         70.09         94.39   \n",
       "bmi                         24.0             29.0          27.4          22.8   \n",
       "smoking_status      never smoked  formerly smoked  never smoked  never smoked   \n",
       "stroke                         1                1             1             1   \n",
       "\n",
       "                      8        9     ...           5100     5101  \\\n",
       "id                   27419    60491  ...          68398    36901   \n",
       "gender              Female   Female  ...           Male   Female   \n",
       "age                   59.0     78.0  ...           82.0     45.0   \n",
       "hypertension             0        0  ...              1        0   \n",
       "heart_disease            0        0  ...              0        0   \n",
       "ever_married           Yes      Yes  ...            Yes      Yes   \n",
       "work_type          Private  Private  ...  Self-employed  Private   \n",
       "Residence_type       Rural    Urban  ...          Rural    Urban   \n",
       "avg_glucose_level    76.15    58.57  ...          71.97    97.95   \n",
       "bmi                    NaN     24.2  ...           28.3     24.5   \n",
       "smoking_status     Unknown  Unknown  ...   never smoked  Unknown   \n",
       "stroke                   1        1  ...              0        0   \n",
       "\n",
       "                           5102     5103      5104          5105  \\\n",
       "id                        45010    22127     14180         18234   \n",
       "gender                   Female   Female    Female        Female   \n",
       "age                        57.0     18.0      13.0          80.0   \n",
       "hypertension                  0        0         0             1   \n",
       "heart_disease                 0        0         0             0   \n",
       "ever_married                Yes       No        No           Yes   \n",
       "work_type               Private  Private  children       Private   \n",
       "Residence_type            Rural    Urban     Rural         Urban   \n",
       "avg_glucose_level         77.93    82.85    103.08         83.75   \n",
       "bmi                        21.7     46.9      18.6           NaN   \n",
       "smoking_status     never smoked  Unknown   Unknown  never smoked   \n",
       "stroke                        0        0         0             0   \n",
       "\n",
       "                            5106           5107             5108      5109  \n",
       "id                         44873          19723            37544     44679  \n",
       "gender                    Female         Female             Male    Female  \n",
       "age                         81.0           35.0             51.0      44.0  \n",
       "hypertension                   0              0                0         0  \n",
       "heart_disease                  0              0                0         0  \n",
       "ever_married                 Yes            Yes              Yes       Yes  \n",
       "work_type          Self-employed  Self-employed          Private  Govt_job  \n",
       "Residence_type             Urban          Rural            Rural     Urban  \n",
       "avg_glucose_level          125.2          82.99           166.29     85.28  \n",
       "bmi                         40.0           30.6             25.6      26.2  \n",
       "smoking_status      never smoked   never smoked  formerly smoked   Unknown  \n",
       "stroke                         0              0                0         0  \n",
       "\n",
       "[12 rows x 5110 columns]"
      ]
     },
     "execution_count": 7,
     "metadata": {},
     "output_type": "execute_result"
    }
   ],
   "source": [
    "# Trasponerlo\n",
    "df.transpose()\n"
   ]
  },
  {
   "cell_type": "markdown",
   "id": "44acfbdd",
   "metadata": {
    "id": "44acfbdd"
   },
   "source": [
    "#### Información de los Atributos"
   ]
  },
  {
   "cell_type": "markdown",
   "id": "a122a9f3",
   "metadata": {
    "id": "a122a9f3"
   },
   "source": [
    "> 1) **id:** unique identifier\n",
    "\n",
    "> 2) **gender:** \"Male\", \"Female\" or \"Other\"\n",
    "\n",
    "> 3) **age:** age of the patient\n",
    "\n",
    "> 4) **hypertension:** 0 if the patient doesn't have hypertension, 1 if the patient has hypertension\n",
    "\n",
    "> 5) **heart_disease:** 0 if the patient doesn't have any heart diseases, 1 if the patient has a heart disease\n",
    "\n",
    "> 6) **ever_married:** \"No\" or \"Yes\"\n",
    "\n",
    "> 7) **work_type:** \"children\", \"Govt_jov\", \"Never_worked\", \"Private\" or \"Self-employed\"\n",
    "\n",
    "> 8) **Residence_type:** \"Rural\" or \"Urban\"\n",
    "\n",
    "> 9) **avg_glucose_level:** average glucose level in blood\n",
    "\n",
    "> 10) **bmi:** body mass index\n",
    "\n",
    "> 11) **smoking_status:** \"formerly smoked\", \"never smoked\", \"smokes\" or \"Unknown\"*\n",
    "\n",
    "> 12) **stroke:** 1 if the patient had a stroke or 0 if not\n",
    "\n",
    "*Note: \"Unknown\" in smoking_status means that the information is unavailable for this patient"
   ]
  },
  {
   "cell_type": "markdown",
   "id": "8d8af3a1",
   "metadata": {
    "id": "8d8af3a1"
   },
   "source": [
    "## Analizando el dataset"
   ]
  },
  {
   "cell_type": "markdown",
   "id": "99281c20",
   "metadata": {
    "id": "99281c20"
   },
   "source": [
    "#### Identificar el número de columnas, si hay valores perdidos y también el tipo de características / variables que se encuentran en el conjunto de datos."
   ]
  },
  {
   "cell_type": "code",
   "execution_count": 8,
   "id": "20ILvPrL3QYi",
   "metadata": {
    "ExecuteTime": {
     "end_time": "2024-04-06T14:00:49.322758Z",
     "start_time": "2024-04-06T14:00:49.293751Z"
    },
    "id": "20ILvPrL3QYi"
   },
   "outputs": [
    {
     "name": "stdout",
     "output_type": "stream",
     "text": [
      "Cantidad de columnas: 12\n",
      "------------------------------------\n",
      "Valores perdidos: 201\n",
      "------------------------------------\n",
      "<class 'pandas.core.frame.DataFrame'>\n",
      "RangeIndex: 5110 entries, 0 to 5109\n",
      "Data columns (total 12 columns):\n",
      " #   Column             Non-Null Count  Dtype  \n",
      "---  ------             --------------  -----  \n",
      " 0   id                 5110 non-null   int64  \n",
      " 1   gender             5110 non-null   object \n",
      " 2   age                5110 non-null   float64\n",
      " 3   hypertension       5110 non-null   int64  \n",
      " 4   heart_disease      5110 non-null   int64  \n",
      " 5   ever_married       5110 non-null   object \n",
      " 6   work_type          5110 non-null   object \n",
      " 7   Residence_type     5110 non-null   object \n",
      " 8   avg_glucose_level  5110 non-null   float64\n",
      " 9   bmi                4909 non-null   float64\n",
      " 10  smoking_status     5110 non-null   object \n",
      " 11  stroke             5110 non-null   int64  \n",
      "dtypes: float64(3), int64(4), object(5)\n",
      "memory usage: 479.2+ KB\n",
      "None\n"
     ]
    }
   ],
   "source": [
    "print(f'Cantidad de columnas: {len(df.columns)}')\n",
    "print('------------------------------------')\n",
    "print(f'Valores perdidos: {df.isnull().sum().sum()}')\n",
    "print('------------------------------------')\n",
    "print(df.info())"
   ]
  },
  {
   "cell_type": "markdown",
   "id": "99096201",
   "metadata": {
    "id": "99096201"
   },
   "source": [
    "#### Filtre el dataset considerando por un lado a los datos tipo objeto y por el otro los numericos"
   ]
  },
  {
   "cell_type": "code",
   "execution_count": 9,
   "id": "cvHAL10s3Q2b",
   "metadata": {
    "ExecuteTime": {
     "end_time": "2024-04-06T14:00:49.337761Z",
     "start_time": "2024-04-06T14:00:49.323758Z"
    },
    "id": "cvHAL10s3Q2b"
   },
   "outputs": [],
   "source": [
    "# filter categorical variables\n",
    "df_numericos =  df.select_dtypes(include=['int64', 'float64'])\n",
    "df_objeto = df.select_dtypes(include=['object'])"
   ]
  },
  {
   "cell_type": "markdown",
   "id": "66bf4c35",
   "metadata": {
    "id": "66bf4c35"
   },
   "source": [
    "#### ¿Qué persona tiene el IMC máximo del conjunto de datos?"
   ]
  },
  {
   "cell_type": "code",
   "execution_count": 10,
   "id": "h2OYEXfr3RdF",
   "metadata": {
    "ExecuteTime": {
     "end_time": "2024-04-06T14:00:49.353764Z",
     "start_time": "2024-04-06T14:00:49.338760Z"
    },
    "id": "h2OYEXfr3RdF"
   },
   "outputs": [
    {
     "data": {
      "text/plain": [
       "id     56420\n",
       "bmi     97.6\n",
       "Name: 2128, dtype: object"
      ]
     },
     "execution_count": 10,
     "metadata": {},
     "output_type": "execute_result"
    }
   ],
   "source": [
    "df.loc[df['bmi'].idxmax()][['id','bmi']]"
   ]
  },
  {
   "cell_type": "markdown",
   "id": "e159a5b6",
   "metadata": {
    "id": "e159a5b6"
   },
   "source": [
    "#### Preguntas sobre la mirada inicial"
   ]
  },
  {
   "cell_type": "markdown",
   "id": "d97afc06",
   "metadata": {
    "id": "d97afc06"
   },
   "source": [
    " 1. ¿Está correlacionado la variable gender con stroke? ¿Tienen más probabilidades de sufrirlo los hombres o las mujeres?"
   ]
  },
  {
   "cell_type": "code",
   "execution_count": 11,
   "id": "3c1ee82604cc40cc",
   "metadata": {
    "ExecuteTime": {
     "end_time": "2024-04-06T14:00:49.383772Z",
     "start_time": "2024-04-06T14:00:49.354764Z"
    }
   },
   "outputs": [
    {
     "data": {
      "text/plain": [
       "0.009117154023008696"
      ]
     },
     "execution_count": 11,
     "metadata": {},
     "output_type": "execute_result"
    }
   ],
   "source": [
    "df['gender_numerico'] = df['gender'].replace({'Female': 0, 'Male': 1, 'Other':0},regex=True)\n",
    "df['gender_numerico'].corr(df['stroke'])"
   ]
  },
  {
   "cell_type": "markdown",
   "id": "4a9f3e9fd1bcbb2a",
   "metadata": {},
   "source": [
    "Practicamente no hay correlacion que implique que el genero tenga algo que ver con el stroke (leve correlacion entre genero masculino y stroke)"
   ]
  },
  {
   "cell_type": "markdown",
   "id": "6e9fd775",
   "metadata": {
    "id": "6e9fd775"
   },
   "source": [
    "## Ejercicio"
   ]
  },
  {
   "cell_type": "markdown",
   "id": "ccebad03",
   "metadata": {
    "id": "ccebad03"
   },
   "source": [
    "1. ¿Cuál es el valor de la décima observación de la característica edad desde la parte superior del conjunto de datos?"
   ]
  },
  {
   "cell_type": "code",
   "execution_count": 12,
   "id": "a505c6ed",
   "metadata": {
    "ExecuteTime": {
     "end_time": "2024-04-06T14:00:49.399775Z",
     "start_time": "2024-04-06T14:00:49.384772Z"
    },
    "id": "a505c6ed"
   },
   "outputs": [
    {
     "data": {
      "text/plain": [
       "78.0"
      ]
     },
     "execution_count": 12,
     "metadata": {},
     "output_type": "execute_result"
    }
   ],
   "source": [
    "df.loc[9]['age']\n"
   ]
  },
  {
   "cell_type": "markdown",
   "id": "45437ef5",
   "metadata": {
    "id": "45437ef5"
   },
   "source": [
    "2. ¿Cuál es el valor de la 7ª observación de la característica bmi desde el fondo del conjunto de datos?"
   ]
  },
  {
   "cell_type": "code",
   "execution_count": 13,
   "id": "34470de3",
   "metadata": {
    "ExecuteTime": {
     "end_time": "2024-04-06T14:00:49.414779Z",
     "start_time": "2024-04-06T14:00:49.400775Z"
    },
    "id": "34470de3"
   },
   "outputs": [
    {
     "data": {
      "text/plain": [
       "46.9"
      ]
     },
     "execution_count": 13,
     "metadata": {},
     "output_type": "execute_result"
    }
   ],
   "source": [
    "df.iloc[-7]['bmi']"
   ]
  },
  {
   "cell_type": "markdown",
   "id": "0981d8dd",
   "metadata": {
    "id": "0981d8dd"
   },
   "source": [
    "3. ¿Cuál es el id number y el work_type de la persona con el nivel medio de glucosa más bajo del conjunto de datos?"
   ]
  },
  {
   "cell_type": "code",
   "execution_count": 14,
   "id": "34bf5cae",
   "metadata": {
    "ExecuteTime": {
     "end_time": "2024-04-06T14:00:49.429782Z",
     "start_time": "2024-04-06T14:00:49.415778Z"
    },
    "id": "34bf5cae"
   },
   "outputs": [
    {
     "data": {
      "text/plain": [
       "id                     60562\n",
       "work_type            Private\n",
       "avg_glucose_level      55.12\n",
       "Name: 4886, dtype: object"
      ]
     },
     "execution_count": 14,
     "metadata": {},
     "output_type": "execute_result"
    }
   ],
   "source": [
    "df.loc[df['avg_glucose_level'].idxmin(), ['id', 'work_type','avg_glucose_level']]"
   ]
  },
  {
   "cell_type": "markdown",
   "id": "b0d98d57",
   "metadata": {
    "id": "b0d98d57"
   },
   "source": [
    "4. Imprime un dataframe filtrado, basado en tres condiciones:\n",
    "\n",
    "   a) Edad inferior a 30 años\n",
    "   b) Tipo_residencia es Rural\n",
    "   c) El sexo es femenino\n",
    "   \n",
    "   ¿Cuántas filas hay en el conjunto de datos filtrado?"
   ]
  },
  {
   "cell_type": "code",
   "execution_count": 15,
   "id": "24c0f11e",
   "metadata": {
    "ExecuteTime": {
     "end_time": "2024-04-06T14:00:49.460789Z",
     "start_time": "2024-04-06T14:00:49.430781Z"
    },
    "id": "24c0f11e"
   },
   "outputs": [
    {
     "name": "stdout",
     "output_type": "stream",
     "text": [
      "Cantidad de filas: 430\n"
     ]
    },
    {
     "data": {
      "text/html": [
       "<div>\n",
       "<style scoped>\n",
       "    .dataframe tbody tr th:only-of-type {\n",
       "        vertical-align: middle;\n",
       "    }\n",
       "\n",
       "    .dataframe tbody tr th {\n",
       "        vertical-align: top;\n",
       "    }\n",
       "\n",
       "    .dataframe thead th {\n",
       "        text-align: right;\n",
       "    }\n",
       "</style>\n",
       "<table border=\"1\" class=\"dataframe\">\n",
       "  <thead>\n",
       "    <tr style=\"text-align: right;\">\n",
       "      <th></th>\n",
       "      <th>id</th>\n",
       "      <th>gender</th>\n",
       "      <th>age</th>\n",
       "      <th>hypertension</th>\n",
       "      <th>heart_disease</th>\n",
       "      <th>ever_married</th>\n",
       "      <th>work_type</th>\n",
       "      <th>Residence_type</th>\n",
       "      <th>avg_glucose_level</th>\n",
       "      <th>bmi</th>\n",
       "      <th>smoking_status</th>\n",
       "      <th>stroke</th>\n",
       "      <th>gender_numerico</th>\n",
       "    </tr>\n",
       "  </thead>\n",
       "  <tbody>\n",
       "    <tr>\n",
       "      <th>245</th>\n",
       "      <td>49669</td>\n",
       "      <td>Female</td>\n",
       "      <td>14.00</td>\n",
       "      <td>0</td>\n",
       "      <td>0</td>\n",
       "      <td>No</td>\n",
       "      <td>children</td>\n",
       "      <td>Rural</td>\n",
       "      <td>57.93</td>\n",
       "      <td>30.9</td>\n",
       "      <td>Unknown</td>\n",
       "      <td>1</td>\n",
       "      <td>0</td>\n",
       "    </tr>\n",
       "    <tr>\n",
       "      <th>292</th>\n",
       "      <td>44338</td>\n",
       "      <td>Female</td>\n",
       "      <td>16.00</td>\n",
       "      <td>0</td>\n",
       "      <td>0</td>\n",
       "      <td>No</td>\n",
       "      <td>children</td>\n",
       "      <td>Rural</td>\n",
       "      <td>110.63</td>\n",
       "      <td>19.5</td>\n",
       "      <td>Unknown</td>\n",
       "      <td>0</td>\n",
       "      <td>0</td>\n",
       "    </tr>\n",
       "    <tr>\n",
       "      <th>294</th>\n",
       "      <td>34974</td>\n",
       "      <td>Female</td>\n",
       "      <td>22.00</td>\n",
       "      <td>0</td>\n",
       "      <td>0</td>\n",
       "      <td>No</td>\n",
       "      <td>Private</td>\n",
       "      <td>Rural</td>\n",
       "      <td>79.81</td>\n",
       "      <td>27.7</td>\n",
       "      <td>Unknown</td>\n",
       "      <td>0</td>\n",
       "      <td>0</td>\n",
       "    </tr>\n",
       "    <tr>\n",
       "      <th>312</th>\n",
       "      <td>68249</td>\n",
       "      <td>Female</td>\n",
       "      <td>27.00</td>\n",
       "      <td>0</td>\n",
       "      <td>0</td>\n",
       "      <td>Yes</td>\n",
       "      <td>Private</td>\n",
       "      <td>Rural</td>\n",
       "      <td>85.60</td>\n",
       "      <td>21.4</td>\n",
       "      <td>Unknown</td>\n",
       "      <td>0</td>\n",
       "      <td>0</td>\n",
       "    </tr>\n",
       "    <tr>\n",
       "      <th>328</th>\n",
       "      <td>29865</td>\n",
       "      <td>Female</td>\n",
       "      <td>21.00</td>\n",
       "      <td>0</td>\n",
       "      <td>0</td>\n",
       "      <td>No</td>\n",
       "      <td>Private</td>\n",
       "      <td>Rural</td>\n",
       "      <td>89.44</td>\n",
       "      <td>21.9</td>\n",
       "      <td>smokes</td>\n",
       "      <td>0</td>\n",
       "      <td>0</td>\n",
       "    </tr>\n",
       "    <tr>\n",
       "      <th>...</th>\n",
       "      <td>...</td>\n",
       "      <td>...</td>\n",
       "      <td>...</td>\n",
       "      <td>...</td>\n",
       "      <td>...</td>\n",
       "      <td>...</td>\n",
       "      <td>...</td>\n",
       "      <td>...</td>\n",
       "      <td>...</td>\n",
       "      <td>...</td>\n",
       "      <td>...</td>\n",
       "      <td>...</td>\n",
       "      <td>...</td>\n",
       "    </tr>\n",
       "    <tr>\n",
       "      <th>5027</th>\n",
       "      <td>62416</td>\n",
       "      <td>Female</td>\n",
       "      <td>26.00</td>\n",
       "      <td>0</td>\n",
       "      <td>0</td>\n",
       "      <td>Yes</td>\n",
       "      <td>Private</td>\n",
       "      <td>Rural</td>\n",
       "      <td>73.29</td>\n",
       "      <td>27.8</td>\n",
       "      <td>never smoked</td>\n",
       "      <td>0</td>\n",
       "      <td>0</td>\n",
       "    </tr>\n",
       "    <tr>\n",
       "      <th>5031</th>\n",
       "      <td>67465</td>\n",
       "      <td>Female</td>\n",
       "      <td>20.00</td>\n",
       "      <td>0</td>\n",
       "      <td>0</td>\n",
       "      <td>No</td>\n",
       "      <td>Private</td>\n",
       "      <td>Rural</td>\n",
       "      <td>117.59</td>\n",
       "      <td>17.1</td>\n",
       "      <td>never smoked</td>\n",
       "      <td>0</td>\n",
       "      <td>0</td>\n",
       "    </tr>\n",
       "    <tr>\n",
       "      <th>5032</th>\n",
       "      <td>67426</td>\n",
       "      <td>Female</td>\n",
       "      <td>1.24</td>\n",
       "      <td>0</td>\n",
       "      <td>0</td>\n",
       "      <td>No</td>\n",
       "      <td>children</td>\n",
       "      <td>Rural</td>\n",
       "      <td>61.94</td>\n",
       "      <td>20.3</td>\n",
       "      <td>Unknown</td>\n",
       "      <td>0</td>\n",
       "      <td>0</td>\n",
       "    </tr>\n",
       "    <tr>\n",
       "      <th>5089</th>\n",
       "      <td>56714</td>\n",
       "      <td>Female</td>\n",
       "      <td>0.72</td>\n",
       "      <td>0</td>\n",
       "      <td>0</td>\n",
       "      <td>No</td>\n",
       "      <td>children</td>\n",
       "      <td>Rural</td>\n",
       "      <td>62.13</td>\n",
       "      <td>16.8</td>\n",
       "      <td>Unknown</td>\n",
       "      <td>0</td>\n",
       "      <td>0</td>\n",
       "    </tr>\n",
       "    <tr>\n",
       "      <th>5104</th>\n",
       "      <td>14180</td>\n",
       "      <td>Female</td>\n",
       "      <td>13.00</td>\n",
       "      <td>0</td>\n",
       "      <td>0</td>\n",
       "      <td>No</td>\n",
       "      <td>children</td>\n",
       "      <td>Rural</td>\n",
       "      <td>103.08</td>\n",
       "      <td>18.6</td>\n",
       "      <td>Unknown</td>\n",
       "      <td>0</td>\n",
       "      <td>0</td>\n",
       "    </tr>\n",
       "  </tbody>\n",
       "</table>\n",
       "<p>430 rows × 13 columns</p>\n",
       "</div>"
      ],
      "text/plain": [
       "         id  gender    age  hypertension  heart_disease ever_married  \\\n",
       "245   49669  Female  14.00             0              0           No   \n",
       "292   44338  Female  16.00             0              0           No   \n",
       "294   34974  Female  22.00             0              0           No   \n",
       "312   68249  Female  27.00             0              0          Yes   \n",
       "328   29865  Female  21.00             0              0           No   \n",
       "...     ...     ...    ...           ...            ...          ...   \n",
       "5027  62416  Female  26.00             0              0          Yes   \n",
       "5031  67465  Female  20.00             0              0           No   \n",
       "5032  67426  Female   1.24             0              0           No   \n",
       "5089  56714  Female   0.72             0              0           No   \n",
       "5104  14180  Female  13.00             0              0           No   \n",
       "\n",
       "     work_type Residence_type  avg_glucose_level   bmi smoking_status  stroke  \\\n",
       "245   children          Rural              57.93  30.9        Unknown       1   \n",
       "292   children          Rural             110.63  19.5        Unknown       0   \n",
       "294    Private          Rural              79.81  27.7        Unknown       0   \n",
       "312    Private          Rural              85.60  21.4        Unknown       0   \n",
       "328    Private          Rural              89.44  21.9         smokes       0   \n",
       "...        ...            ...                ...   ...            ...     ...   \n",
       "5027   Private          Rural              73.29  27.8   never smoked       0   \n",
       "5031   Private          Rural             117.59  17.1   never smoked       0   \n",
       "5032  children          Rural              61.94  20.3        Unknown       0   \n",
       "5089  children          Rural              62.13  16.8        Unknown       0   \n",
       "5104  children          Rural             103.08  18.6        Unknown       0   \n",
       "\n",
       "      gender_numerico  \n",
       "245                 0  \n",
       "292                 0  \n",
       "294                 0  \n",
       "312                 0  \n",
       "328                 0  \n",
       "...               ...  \n",
       "5027                0  \n",
       "5031                0  \n",
       "5032                0  \n",
       "5089                0  \n",
       "5104                0  \n",
       "\n",
       "[430 rows x 13 columns]"
      ]
     },
     "execution_count": 15,
     "metadata": {},
     "output_type": "execute_result"
    }
   ],
   "source": [
    "edad = (df['age'] < 30)\n",
    "residencia = (df['Residence_type'] == 'Rural')\n",
    "sexo = (df['gender'] == 'Female')\n",
    "\n",
    "df_filtrado = df[edad & residencia & sexo]\n",
    "print(f'Cantidad de filas: {df_filtrado.shape[0]}')\n",
    "df_filtrado"
   ]
  },
  {
   "cell_type": "markdown",
   "id": "8a328510",
   "metadata": {
    "id": "8a328510"
   },
   "source": [
    "## Analisis Univariado de datos"
   ]
  },
  {
   "cell_type": "markdown",
   "id": "a1ac66b9",
   "metadata": {
    "id": "a1ac66b9"
   },
   "source": [
    "Utilice una función que nos ayude a imprimir algunos estadísticos resumidos básicos como el recuento, la media, la desviación típica, el valor máximo, el valor mínimo y los percentiles 25, 50 y 75 de cada una de las variables. "
   ]
  },
  {
   "cell_type": "code",
   "execution_count": 16,
   "id": "74051af3",
   "metadata": {
    "ExecuteTime": {
     "end_time": "2024-04-06T14:00:49.492796Z",
     "start_time": "2024-04-06T14:00:49.462788Z"
    },
    "id": "74051af3"
   },
   "outputs": [
    {
     "data": {
      "text/html": [
       "<div>\n",
       "<style scoped>\n",
       "    .dataframe tbody tr th:only-of-type {\n",
       "        vertical-align: middle;\n",
       "    }\n",
       "\n",
       "    .dataframe tbody tr th {\n",
       "        vertical-align: top;\n",
       "    }\n",
       "\n",
       "    .dataframe thead th {\n",
       "        text-align: right;\n",
       "    }\n",
       "</style>\n",
       "<table border=\"1\" class=\"dataframe\">\n",
       "  <thead>\n",
       "    <tr style=\"text-align: right;\">\n",
       "      <th></th>\n",
       "      <th>id</th>\n",
       "      <th>age</th>\n",
       "      <th>hypertension</th>\n",
       "      <th>heart_disease</th>\n",
       "      <th>avg_glucose_level</th>\n",
       "      <th>bmi</th>\n",
       "      <th>stroke</th>\n",
       "      <th>gender_numerico</th>\n",
       "    </tr>\n",
       "  </thead>\n",
       "  <tbody>\n",
       "    <tr>\n",
       "      <th>count</th>\n",
       "      <td>5110.000000</td>\n",
       "      <td>5110.000000</td>\n",
       "      <td>5110.000000</td>\n",
       "      <td>5110.000000</td>\n",
       "      <td>5110.000000</td>\n",
       "      <td>4909.000000</td>\n",
       "      <td>5110.000000</td>\n",
       "      <td>5110.000000</td>\n",
       "    </tr>\n",
       "    <tr>\n",
       "      <th>mean</th>\n",
       "      <td>36517.829354</td>\n",
       "      <td>43.226614</td>\n",
       "      <td>0.097456</td>\n",
       "      <td>0.054012</td>\n",
       "      <td>106.147677</td>\n",
       "      <td>28.893237</td>\n",
       "      <td>0.048728</td>\n",
       "      <td>0.413894</td>\n",
       "    </tr>\n",
       "    <tr>\n",
       "      <th>std</th>\n",
       "      <td>21161.721625</td>\n",
       "      <td>22.612647</td>\n",
       "      <td>0.296607</td>\n",
       "      <td>0.226063</td>\n",
       "      <td>45.283560</td>\n",
       "      <td>7.854067</td>\n",
       "      <td>0.215320</td>\n",
       "      <td>0.492578</td>\n",
       "    </tr>\n",
       "    <tr>\n",
       "      <th>min</th>\n",
       "      <td>67.000000</td>\n",
       "      <td>0.080000</td>\n",
       "      <td>0.000000</td>\n",
       "      <td>0.000000</td>\n",
       "      <td>55.120000</td>\n",
       "      <td>10.300000</td>\n",
       "      <td>0.000000</td>\n",
       "      <td>0.000000</td>\n",
       "    </tr>\n",
       "    <tr>\n",
       "      <th>25%</th>\n",
       "      <td>17741.250000</td>\n",
       "      <td>25.000000</td>\n",
       "      <td>0.000000</td>\n",
       "      <td>0.000000</td>\n",
       "      <td>77.245000</td>\n",
       "      <td>23.500000</td>\n",
       "      <td>0.000000</td>\n",
       "      <td>0.000000</td>\n",
       "    </tr>\n",
       "    <tr>\n",
       "      <th>50%</th>\n",
       "      <td>36932.000000</td>\n",
       "      <td>45.000000</td>\n",
       "      <td>0.000000</td>\n",
       "      <td>0.000000</td>\n",
       "      <td>91.885000</td>\n",
       "      <td>28.100000</td>\n",
       "      <td>0.000000</td>\n",
       "      <td>0.000000</td>\n",
       "    </tr>\n",
       "    <tr>\n",
       "      <th>75%</th>\n",
       "      <td>54682.000000</td>\n",
       "      <td>61.000000</td>\n",
       "      <td>0.000000</td>\n",
       "      <td>0.000000</td>\n",
       "      <td>114.090000</td>\n",
       "      <td>33.100000</td>\n",
       "      <td>0.000000</td>\n",
       "      <td>1.000000</td>\n",
       "    </tr>\n",
       "    <tr>\n",
       "      <th>max</th>\n",
       "      <td>72940.000000</td>\n",
       "      <td>82.000000</td>\n",
       "      <td>1.000000</td>\n",
       "      <td>1.000000</td>\n",
       "      <td>271.740000</td>\n",
       "      <td>97.600000</td>\n",
       "      <td>1.000000</td>\n",
       "      <td>1.000000</td>\n",
       "    </tr>\n",
       "  </tbody>\n",
       "</table>\n",
       "</div>"
      ],
      "text/plain": [
       "                 id          age  hypertension  heart_disease  \\\n",
       "count   5110.000000  5110.000000   5110.000000    5110.000000   \n",
       "mean   36517.829354    43.226614      0.097456       0.054012   \n",
       "std    21161.721625    22.612647      0.296607       0.226063   \n",
       "min       67.000000     0.080000      0.000000       0.000000   \n",
       "25%    17741.250000    25.000000      0.000000       0.000000   \n",
       "50%    36932.000000    45.000000      0.000000       0.000000   \n",
       "75%    54682.000000    61.000000      0.000000       0.000000   \n",
       "max    72940.000000    82.000000      1.000000       1.000000   \n",
       "\n",
       "       avg_glucose_level          bmi       stroke  gender_numerico  \n",
       "count        5110.000000  4909.000000  5110.000000      5110.000000  \n",
       "mean          106.147677    28.893237     0.048728         0.413894  \n",
       "std            45.283560     7.854067     0.215320         0.492578  \n",
       "min            55.120000    10.300000     0.000000         0.000000  \n",
       "25%            77.245000    23.500000     0.000000         0.000000  \n",
       "50%            91.885000    28.100000     0.000000         0.000000  \n",
       "75%           114.090000    33.100000     0.000000         1.000000  \n",
       "max           271.740000    97.600000     1.000000         1.000000  "
      ]
     },
     "execution_count": 16,
     "metadata": {},
     "output_type": "execute_result"
    }
   ],
   "source": [
    "df.describe()\n",
    "\n"
   ]
  },
  {
   "cell_type": "markdown",
   "id": "33a58fe3",
   "metadata": {
    "id": "33a58fe3"
   },
   "source": [
    "#### Variable Target - Stroke"
   ]
  },
  {
   "cell_type": "markdown",
   "id": "FDuZSv5z3Rwe",
   "metadata": {
    "id": "FDuZSv5z3Rwe"
   },
   "source": [
    "Analice la distribución de la variable target y grafique en un grafico de sectores (torta)"
   ]
  },
  {
   "cell_type": "code",
   "execution_count": 17,
   "id": "L7cDRZE15TA3",
   "metadata": {
    "ExecuteTime": {
     "end_time": "2024-04-06T14:00:49.508798Z",
     "start_time": "2024-04-06T14:00:49.493795Z"
    },
    "id": "L7cDRZE15TA3"
   },
   "outputs": [
    {
     "data": {
      "text/plain": [
       "0    4861\n",
       "1     249\n",
       "Name: stroke, dtype: int64"
      ]
     },
     "execution_count": 17,
     "metadata": {},
     "output_type": "execute_result"
    }
   ],
   "source": [
    "# Obser si el dataset esta desbalanceado, contando las ocurrencias de cada valor de la variable\n",
    "stroke_distr = df['stroke'].value_counts()\n",
    "stroke_distr"
   ]
  },
  {
   "cell_type": "code",
   "execution_count": 18,
   "id": "CZV0xDz05b5J",
   "metadata": {
    "ExecuteTime": {
     "end_time": "2024-04-06T14:00:49.645701Z",
     "start_time": "2024-04-06T14:00:49.510799Z"
    },
    "id": "CZV0xDz05b5J"
   },
   "outputs": [
    {
     "data": {
      "image/png": "[encoded data removed]",
      "text/plain": [
       "<Figure size 432x288 with 1 Axes>"
      ]
     },
     "metadata": {},
     "output_type": "display_data"
    }
   ],
   "source": [
    "# stroke - pie chart\n",
    "plt.pie(stroke_distr, labels=['No Stroke', 'Stroke'], autopct='%1.1f%%', startangle=90, colors=['lightblue','lightgrey'])\n",
    "plt.show()"
   ]
  },
  {
   "cell_type": "markdown",
   "id": "d2db8d4d",
   "metadata": {
    "id": "d2db8d4d"
   },
   "source": [
    "#### Variables numéricas Continuas - age, avg_glucose_level, bmi"
   ]
  },
  {
   "cell_type": "markdown",
   "id": "f3ba204b",
   "metadata": {
    "id": "f3ba204b"
   },
   "source": [
    "**Histograma**\n",
    "\n",
    "Un histograma muestra datos numéricos agrupándolos en \"intervalos\" de igual anchura. Cada intervalo se representa como una barra cuya altura corresponde al número de puntos de datos que contiene."
   ]
  },
  {
   "cell_type": "code",
   "execution_count": 19,
   "id": "127d7768",
   "metadata": {
    "ExecuteTime": {
     "end_time": "2024-04-06T14:00:49.907759Z",
     "start_time": "2024-04-06T14:00:49.646700Z"
    },
    "id": "127d7768",
    "scrolled": false
   },
   "outputs": [
    {
     "data": {
      "image/png": "[encoded data removed]",
      "text/plain": [
       "<Figure size 432x288 with 1 Axes>"
      ]
     },
     "metadata": {
      "needs_background": "light"
     },
     "output_type": "display_data"
    }
   ],
   "source": [
    "# Gráfico simple - age\n",
    "sns.histplot(df['age'], color='blue')\n",
    "plt.show()\n"
   ]
  },
  {
   "cell_type": "code",
   "execution_count": 20,
   "id": "7097e102",
   "metadata": {
    "ExecuteTime": {
     "end_time": "2024-04-06T14:00:50.169818Z",
     "start_time": "2024-04-06T14:00:49.908759Z"
    },
    "id": "7097e102"
   },
   "outputs": [
    {
     "data": {
      "image/png": "[encoded data removed]",
      "text/plain": [
       "<Figure size 432x288 with 1 Axes>"
      ]
     },
     "metadata": {
      "needs_background": "light"
     },
     "output_type": "display_data"
    }
   ],
   "source": [
    "# Histograma de \"age\" en gente con \"stroke\"\n",
    "sns.histplot(df[df['stroke'] == 1]['age'], color='red')\n",
    "plt.show()\n",
    "\n"
   ]
  },
  {
   "cell_type": "code",
   "execution_count": 21,
   "id": "e36c0457",
   "metadata": {
    "ExecuteTime": {
     "end_time": "2024-04-06T14:00:50.657926Z",
     "start_time": "2024-04-06T14:00:50.170818Z"
    },
    "id": "e36c0457",
    "scrolled": false
   },
   "outputs": [
    {
     "data": {
      "image/png": "[encoded data removed]",
      "text/plain": [
       "<Figure size 1080x360 with 2 Axes>"
      ]
     },
     "metadata": {
      "needs_background": "light"
     },
     "output_type": "display_data"
    }
   ],
   "source": [
    "# subplots - bmi, avg_glucose_level\n",
    "\n",
    "fig, ax = plt.subplots(1, 2, figsize=(15, 5))\n",
    "sns.histplot(df['bmi'], color='green', ax=ax[0])\n",
    "sns.histplot(df['avg_glucose_level'], color='purple', ax=ax[1])\n",
    "plt.show()"
   ]
  },
  {
   "cell_type": "markdown",
   "id": "e3b2ce16",
   "metadata": {
    "id": "e3b2ce16"
   },
   "source": [
    "#### Boxplots and Outliers"
   ]
  },
  {
   "cell_type": "markdown",
   "id": "22638b9a",
   "metadata": {
    "id": "22638b9a"
   },
   "source": [
    "Un diagrama de caja es una forma estandarizada de mostrar la distribución de los datos basada en un resumen de cinco números (\"mínimo\", primer cuartil (Q1), mediana, tercer cuartil (Q3) y \"máximo\"). Puede informarle sobre sus valores atípicos y cuáles son. También puede indicarle si sus datos son simétricos, con qué precisión están agrupados y si están sesgados y de qué forma."
   ]
  },
  {
   "cell_type": "markdown",
   "id": "w8Uf26Gf3_o7",
   "metadata": {
    "id": "w8Uf26Gf3_o7"
   },
   "source": [
    "Represente en Diagramas de Cajas / Boxplot las variables númericas del punto anterior e interprete los resultados"
   ]
  },
  {
   "cell_type": "code",
   "execution_count": 22,
   "id": "23ddfb1995278754",
   "metadata": {
    "ExecuteTime": {
     "end_time": "2024-04-06T14:00:50.938990Z",
     "start_time": "2024-04-06T14:00:50.658927Z"
    }
   },
   "outputs": [
    {
     "data": {
      "image/png": "[encoded data removed]",
      "text/plain": [
       "<Figure size 1080x360 with 3 Axes>"
      ]
     },
     "metadata": {
      "needs_background": "light"
     },
     "output_type": "display_data"
    }
   ],
   "source": [
    "fig, ax = plt.subplots(1, 3, figsize=(15, 5))\n",
    "\n",
    "sns.boxplot(df['age'], ax=ax[0])\n",
    "ax[0].set_xlabel('age')\n",
    "\n",
    "sns.boxplot(df['bmi'], ax=ax[1])\n",
    "ax[1].set_xlabel('bmi')\n",
    "\n",
    "sns.boxplot(df['avg_glucose_level'], ax=ax[2])\n",
    "ax[2].set_xlabel('avg_glucose_level')\n",
    "\n",
    "plt.show()\n"
   ]
  },
  {
   "cell_type": "markdown",
   "id": "d8e3e486",
   "metadata": {
    "id": "d8e3e486"
   },
   "source": [
    "#### ¿Debemos eliminar o mantener los valores atípicos?"
   ]
  },
  {
   "cell_type": "markdown",
   "id": "bVaHS1F04C9U",
   "metadata": {
    "id": "bVaHS1F04C9U"
   },
   "source": [
    "No los eliminaria, representan una parte demasiaod importante de la muestra como para desecharlas. Ademas no parecen errores de medicion, sino valores reales."
   ]
  },
  {
   "cell_type": "markdown",
   "id": "4fe8412e",
   "metadata": {
    "id": "4fe8412e"
   },
   "source": [
    "#### Variables Categoricas - gender, ever_married, work_type, residence_type, smoking_status"
   ]
  },
  {
   "cell_type": "code",
   "execution_count": 23,
   "id": "ac2455bd",
   "metadata": {
    "ExecuteTime": {
     "end_time": "2024-04-06T14:00:50.953993Z",
     "start_time": "2024-04-06T14:00:50.939989Z"
    },
    "id": "ac2455bd",
    "scrolled": true
   },
   "outputs": [
    {
     "name": "stdout",
     "output_type": "stream",
     "text": [
      "<class 'pandas.core.frame.DataFrame'>\n",
      "RangeIndex: 5110 entries, 0 to 5109\n",
      "Data columns (total 13 columns):\n",
      " #   Column             Non-Null Count  Dtype  \n",
      "---  ------             --------------  -----  \n",
      " 0   id                 5110 non-null   int64  \n",
      " 1   gender             5110 non-null   object \n",
      " 2   age                5110 non-null   float64\n",
      " 3   hypertension       5110 non-null   int64  \n",
      " 4   heart_disease      5110 non-null   int64  \n",
      " 5   ever_married       5110 non-null   object \n",
      " 6   work_type          5110 non-null   object \n",
      " 7   Residence_type     5110 non-null   object \n",
      " 8   avg_glucose_level  5110 non-null   float64\n",
      " 9   bmi                4909 non-null   float64\n",
      " 10  smoking_status     5110 non-null   object \n",
      " 11  stroke             5110 non-null   int64  \n",
      " 12  gender_numerico    5110 non-null   int64  \n",
      "dtypes: float64(3), int64(5), object(5)\n",
      "memory usage: 519.1+ KB\n"
     ]
    }
   ],
   "source": [
    "# Utilice la funcion describe para analizar las columnas no numericas\n",
    "df.info()\n"
   ]
  },
  {
   "cell_type": "markdown",
   "id": "0e84b07e",
   "metadata": {
    "id": "0e84b07e"
   },
   "source": [
    "#### Diagrama de Barras"
   ]
  },
  {
   "cell_type": "code",
   "execution_count": 24,
   "id": "e988f789",
   "metadata": {
    "ExecuteTime": {
     "end_time": "2024-04-06T14:00:51.358083Z",
     "start_time": "2024-04-06T14:00:50.957994Z"
    },
    "id": "e988f789"
   },
   "outputs": [
    {
     "data": {
      "image/png": "[encoded data removed]",
      "text/plain": [
       "<Figure size 1080x360 with 3 Axes>"
      ]
     },
     "metadata": {
      "needs_background": "light"
     },
     "output_type": "display_data"
    }
   ],
   "source": [
    "#  Diagrama de Barras para gender, ever_married y work_type\n",
    "fig, ax = plt.subplots(1, 3, figsize=(15,5))\n",
    "ax[0].bar(df['gender'].unique(), df['gender'].value_counts().values)\n",
    "ax[1].bar(df['ever_married'].unique(), df['ever_married'].value_counts().values)\n",
    "ax[2].bar(df['work_type'].unique(), df['work_type'].value_counts().values)\n",
    "ax[2].xaxis.set_tick_params(rotation=35)"
   ]
  },
  {
   "cell_type": "code",
   "execution_count": 25,
   "id": "040ce563",
   "metadata": {
    "ExecuteTime": {
     "end_time": "2024-04-06T14:00:51.796182Z",
     "start_time": "2024-04-06T14:00:51.359083Z"
    },
    "id": "040ce563"
   },
   "outputs": [
    {
     "data": {
      "image/png": "[encoded data removed]",
      "text/plain": [
       "<Figure size 1080x360 with 3 Axes>"
      ]
     },
     "metadata": {
      "needs_background": "light"
     },
     "output_type": "display_data"
    }
   ],
   "source": [
    "# Lo mismo que arriba para las personas que han sufrido la enfermedad\n",
    "df_heart = df[df['heart_disease'] == 1]\n",
    "fig, ax = plt.subplots(1, 3, figsize=(15,5))\n",
    "ax[0].bar(df_heart['gender'].unique(), df_heart['gender'].value_counts().values)\n",
    "ax[1].bar(df_heart['ever_married'].unique(), df_heart['ever_married'].value_counts().values)\n",
    "ax[2].bar(df_heart['work_type'].unique(), df_heart['work_type'].value_counts().values)\n",
    "ax[2].xaxis.set_tick_params(rotation=35)"
   ]
  },
  {
   "cell_type": "code",
   "execution_count": 26,
   "id": "be73385d",
   "metadata": {
    "ExecuteTime": {
     "end_time": "2024-04-06T14:00:52.014231Z",
     "start_time": "2024-04-06T14:00:51.798182Z"
    },
    "id": "be73385d"
   },
   "outputs": [
    {
     "data": {
      "image/png": "[encoded data removed]",
      "text/plain": [
       "<Figure size 720x216 with 2 Axes>"
      ]
     },
     "metadata": {
      "needs_background": "light"
     },
     "output_type": "display_data"
    }
   ],
   "source": [
    "#  Diagrama de Barras para residence_type y smoking_status\n",
    "fig, ax = plt.subplots(1, 2, figsize=(10,3))\n",
    "ax[0].bar(df['Residence_type'].unique(), df['Residence_type'].value_counts().values)\n",
    "ax[1].bar(df['smoking_status'].unique(), df['smoking_status'].value_counts().values)\n",
    "ax[1].xaxis.set_tick_params(rotation=35)\n",
    "plt.show()\n"
   ]
  },
  {
   "cell_type": "code",
   "execution_count": 27,
   "id": "ab6623c3",
   "metadata": {
    "ExecuteTime": {
     "end_time": "2024-04-06T14:00:52.201273Z",
     "start_time": "2024-04-06T14:00:52.015230Z"
    },
    "id": "ab6623c3"
   },
   "outputs": [
    {
     "data": {
      "image/png": "[encoded data removed]",
      "text/plain": [
       "<Figure size 720x216 with 2 Axes>"
      ]
     },
     "metadata": {
      "needs_background": "light"
     },
     "output_type": "display_data"
    }
   ],
   "source": [
    "# Lo mismo que arriba pero para personas que sufrieron la enfermedad\n",
    "fig, ax = plt.subplots(1, 2, figsize=(10,3))\n",
    "ax[0].bar(df_heart['Residence_type'].unique(), df_heart['Residence_type'].value_counts().values)\n",
    "ax[1].bar(df_heart['smoking_status'].unique(), df_heart['smoking_status'].value_counts().values)\n",
    "ax[1].xaxis.set_tick_params(rotation=35)\n",
    "plt.show()\n"
   ]
  },
  {
   "cell_type": "markdown",
   "id": "ba929858",
   "metadata": {
    "id": "ba929858"
   },
   "source": [
    "## Analisis Bivariado"
   ]
  },
  {
   "cell_type": "markdown",
   "id": "19e73eb6",
   "metadata": {
    "id": "19e73eb6"
   },
   "source": [
    "#### ¿Las personas mayores tienden a tener más accidentes cerebrovasculares? (Ayudese con un Diagrama de Cajas comparativo)"
   ]
  },
  {
   "cell_type": "code",
   "execution_count": 28,
   "id": "9ae10fa5",
   "metadata": {
    "ExecuteTime": {
     "end_time": "2024-04-06T14:00:52.216277Z",
     "start_time": "2024-04-06T14:00:52.202274Z"
    },
    "id": "9ae10fa5",
    "scrolled": false
   },
   "outputs": [
    {
     "data": {
      "image/png": "[encoded data removed]",
      "text/plain": [
       "<Figure size 720x432 with 1 Axes>"
      ]
     },
     "metadata": {
      "needs_background": "light"
     },
     "output_type": "display_data"
    }
   ],
   "source": [
    "plt.figure(figsize=(10, 6))\n",
    "plt.boxplot([df[df['stroke'] == 0]['age'],\n",
    "             df[df['stroke'] == 1]['age']],\n",
    "            labels=['Sin Accidente', 'Con Accidente'])\n",
    "plt.title('Comparación de Edades según Accidente Cardiovascular')\n",
    "plt.xlabel('Accidente Cardiovascular')\n",
    "plt.ylabel('Edad')\n",
    "plt.grid(True)\n",
    "plt.show()"
   ]
  },
  {
   "cell_type": "markdown",
   "id": "cf445359",
   "metadata": {},
   "source": [
    "Si, las personas mayores tienen mas accidentes"
   ]
  },
  {
   "cell_type": "markdown",
   "id": "3497f68d",
   "metadata": {
    "id": "3497f68d"
   },
   "source": [
    "#### Existe una conexión entre el tipo de trabajo que realiza y su índice de masa corporal? (Utilice violinplot)"
   ]
  },
  {
   "cell_type": "code",
   "execution_count": 29,
   "id": "8102edc6",
   "metadata": {
    "ExecuteTime": {
     "end_time": "2024-04-06T14:00:52.440325Z",
     "start_time": "2024-04-06T14:00:52.217275Z"
    },
    "id": "8102edc6",
    "scrolled": false
   },
   "outputs": [
    {
     "data": {
      "image/png": "[encoded data removed]",
      "text/plain": [
       "<Figure size 936x288 with 1 Axes>"
      ]
     },
     "metadata": {
      "needs_background": "light"
     },
     "output_type": "display_data"
    }
   ],
   "source": [
    "plt.figure(figsize=(13, 4))\n",
    "sns.violinplot(x='work_type', y='bmi', data=df)\n",
    "plt.show()"
   ]
  },
  {
   "cell_type": "markdown",
   "id": "7ebd26c0",
   "metadata": {
    "id": "7ebd26c0"
   },
   "source": [
    "#### ¿Las personas mayores tienen un nivel de glucosa promedio más alto? (Ayudese utilizando un scatterplot)"
   ]
  },
  {
   "cell_type": "code",
   "execution_count": 30,
   "id": "53808ef7",
   "metadata": {
    "ExecuteTime": {
     "end_time": "2024-04-06T14:00:52.706386Z",
     "start_time": "2024-04-06T14:00:52.441326Z"
    },
    "id": "53808ef7",
    "scrolled": false
   },
   "outputs": [
    {
     "data": {
      "image/png": "[encoded data removed]",
      "text/plain": [
       "<Figure size 432x288 with 1 Axes>"
      ]
     },
     "metadata": {
      "needs_background": "light"
     },
     "output_type": "display_data"
    }
   ],
   "source": [
    "plt.scatter(df['age'], df['avg_glucose_level'], color='lightblue')\n",
    "plt.xlabel('age')\n",
    "plt.ylabel('avg_glucose_level')\n",
    "plt.show()"
   ]
  },
  {
   "cell_type": "markdown",
   "id": "a3153c11450f6f8f",
   "metadata": {},
   "source": [
    "Si, las personas mayores tienen un nivel de glucosa mas alto."
   ]
  },
  {
   "cell_type": "markdown",
   "id": "fd812e6f",
   "metadata": {
    "id": "fd812e6f"
   },
   "source": [
    "#### Tabaquismo frente a accidente cerebrovascular y tipo de trabajo frente a hipertensión (realice la comparacion utilizando countplot)"
   ]
  },
  {
   "cell_type": "code",
   "execution_count": 31,
   "id": "dce84496",
   "metadata": {
    "ExecuteTime": {
     "end_time": "2024-04-06T14:00:52.865421Z",
     "start_time": "2024-04-06T14:00:52.707387Z"
    },
    "id": "dce84496"
   },
   "outputs": [
    {
     "data": {
      "image/png": "[encoded data removed]",
      "text/plain": [
       "<Figure size 432x288 with 1 Axes>"
      ]
     },
     "metadata": {
      "needs_background": "light"
     },
     "output_type": "display_data"
    }
   ],
   "source": [
    "sns.countplot(x='smoking_status', hue = 'stroke', data=df)\n",
    "plt.show()"
   ]
  },
  {
   "cell_type": "code",
   "execution_count": 32,
   "id": "2172633948e8d593",
   "metadata": {
    "ExecuteTime": {
     "end_time": "2024-04-06T14:00:53.037461Z",
     "start_time": "2024-04-06T14:00:52.866421Z"
    }
   },
   "outputs": [
    {
     "data": {
      "image/png": "[encoded data removed]",
      "text/plain": [
       "<Figure size 432x288 with 1 Axes>"
      ]
     },
     "metadata": {
      "needs_background": "light"
     },
     "output_type": "display_data"
    }
   ],
   "source": [
    "sns.countplot(x='work_type', hue = 'hypertension', data=df)\n",
    "plt.show()"
   ]
  },
  {
   "cell_type": "markdown",
   "id": "509ce030",
   "metadata": {
    "id": "509ce030"
   },
   "source": [
    "## Ejercicio"
   ]
  },
  {
   "cell_type": "markdown",
   "id": "6932f166",
   "metadata": {
    "id": "6932f166"
   },
   "source": [
    "   \n",
    "Crea una figura de 3 subplots para responder las siguientes preguntas:\n",
    "   \n",
    "   a) ¿Cuál es el porcentaje de personas con hipertensión en el conjunto de datos?\n",
    "   \n",
    "   b) En los diferentes valores dentro de la característica \"\"smoking_status\"\", ¿los hombres superan en número a las mujeres en alguno de ellos?\n",
    "   \n",
    "   c) ¿Qué me puede decir sobre la relación entre el tipo de trabajo y la edad?\n",
    "   \n",
    "   Todas las figuras deben contener títulos."
   ]
  },
  {
   "cell_type": "code",
   "execution_count": 33,
   "id": "41c91296caad08da",
   "metadata": {
    "ExecuteTime": {
     "end_time": "2024-04-06T14:00:53.053463Z",
     "start_time": "2024-04-06T14:00:53.038459Z"
    }
   },
   "outputs": [],
   "source": [
    "pctg_hypertension = df['hypertension'].value_counts()\n",
    "work_age = df.groupby('work_type').agg({'age':'mean'})\n"
   ]
  },
  {
   "cell_type": "code",
   "execution_count": 34,
   "id": "e43e35aa",
   "metadata": {
    "ExecuteTime": {
     "end_time": "2024-04-06T14:00:53.460554Z",
     "start_time": "2024-04-06T14:00:53.054463Z"
    },
    "id": "e43e35aa"
   },
   "outputs": [
    {
     "data": {
      "image/png": "[encoded data removed]",
      "text/plain": [
       "<Figure size 1440x360 with 3 Axes>"
      ]
     },
     "metadata": {
      "needs_background": "light"
     },
     "output_type": "display_data"
    }
   ],
   "source": [
    "fig, ax = plt.subplots(1, 3, figsize=(20, 5))\n",
    "#a\n",
    "ax[0].pie(pctg_hypertension, labels=['No Hypertension', 'Hypertension'], autopct='%1.1f%%', startangle=90, colors=['lightblue','lightgrey'])\n",
    "#b\n",
    "sns.countplot(x='work_type', hue = 'gender', data=df[df['gender'] != 'Other'], ax = ax[1])\n",
    "#c\n",
    "ax[2].bar(work_age.index, work_age['age'].values, color = 'lightblue')\n",
    "ax[2].xaxis.set_tick_params(rotation=35)\n",
    "\n",
    "plt.show()"
   ]
  },
  {
   "cell_type": "markdown",
   "id": "QRVssWLo7f4C",
   "metadata": {
    "id": "QRVssWLo7f4C"
   },
   "source": [
    "## Missing Data"
   ]
  },
  {
   "cell_type": "markdown",
   "id": "g-6cgHIU6iPP",
   "metadata": {
    "id": "g-6cgHIU6iPP"
   },
   "source": [
    "Analice las variabels con valores nulos y calcule los porcentajes de dichos valores por variable"
   ]
  },
  {
   "cell_type": "code",
   "execution_count": 35,
   "id": "kiOFqsoH7f4C",
   "metadata": {
    "ExecuteTime": {
     "end_time": "2024-04-06T14:00:53.476558Z",
     "start_time": "2024-04-06T14:00:53.461554Z"
    },
    "id": "kiOFqsoH7f4C"
   },
   "outputs": [
    {
     "data": {
      "text/plain": [
       "id                     0\n",
       "gender                 0\n",
       "age                    0\n",
       "hypertension           0\n",
       "heart_disease          0\n",
       "ever_married           0\n",
       "work_type              0\n",
       "Residence_type         0\n",
       "avg_glucose_level      0\n",
       "bmi                  201\n",
       "smoking_status         0\n",
       "stroke                 0\n",
       "gender_numerico        0\n",
       "dtype: int64"
      ]
     },
     "execution_count": 35,
     "metadata": {},
     "output_type": "execute_result"
    }
   ],
   "source": [
    "df.isnull().sum()"
   ]
  },
  {
   "cell_type": "code",
   "execution_count": 36,
   "id": "1b61f4e1a3f536c5",
   "metadata": {
    "ExecuteTime": {
     "end_time": "2024-04-06T14:00:53.492561Z",
     "start_time": "2024-04-06T14:00:53.477559Z"
    }
   },
   "outputs": [
    {
     "name": "stdout",
     "output_type": "stream",
     "text": [
      "Porcentaje de nulos: 3.93%\n"
     ]
    }
   ],
   "source": [
    "print(f\"Porcentaje de nulos: {round(df['bmi'].isnull().sum()/len(df) * 100, 2)}%\")"
   ]
  },
  {
   "cell_type": "markdown",
   "id": "kRXrX5cW6w3n",
   "metadata": {
    "id": "kRXrX5cW6w3n"
   },
   "source": [
    "Imprima los registros del data set con valores faltantes"
   ]
  },
  {
   "cell_type": "code",
   "execution_count": 37,
   "id": "6DdhJuCh7f4C",
   "metadata": {
    "ExecuteTime": {
     "end_time": "2024-04-06T14:00:53.524570Z",
     "start_time": "2024-04-06T14:00:53.493562Z"
    },
    "id": "6DdhJuCh7f4C",
    "scrolled": true
   },
   "outputs": [
    {
     "data": {
      "text/html": [
       "<div>\n",
       "<style scoped>\n",
       "    .dataframe tbody tr th:only-of-type {\n",
       "        vertical-align: middle;\n",
       "    }\n",
       "\n",
       "    .dataframe tbody tr th {\n",
       "        vertical-align: top;\n",
       "    }\n",
       "\n",
       "    .dataframe thead th {\n",
       "        text-align: right;\n",
       "    }\n",
       "</style>\n",
       "<table border=\"1\" class=\"dataframe\">\n",
       "  <thead>\n",
       "    <tr style=\"text-align: right;\">\n",
       "      <th></th>\n",
       "      <th>id</th>\n",
       "      <th>gender</th>\n",
       "      <th>age</th>\n",
       "      <th>hypertension</th>\n",
       "      <th>heart_disease</th>\n",
       "      <th>ever_married</th>\n",
       "      <th>work_type</th>\n",
       "      <th>Residence_type</th>\n",
       "      <th>avg_glucose_level</th>\n",
       "      <th>bmi</th>\n",
       "      <th>smoking_status</th>\n",
       "      <th>stroke</th>\n",
       "      <th>gender_numerico</th>\n",
       "    </tr>\n",
       "  </thead>\n",
       "  <tbody>\n",
       "    <tr>\n",
       "      <th>1</th>\n",
       "      <td>51676</td>\n",
       "      <td>Female</td>\n",
       "      <td>61.0</td>\n",
       "      <td>0</td>\n",
       "      <td>0</td>\n",
       "      <td>Yes</td>\n",
       "      <td>Self-employed</td>\n",
       "      <td>Rural</td>\n",
       "      <td>202.21</td>\n",
       "      <td>NaN</td>\n",
       "      <td>never smoked</td>\n",
       "      <td>1</td>\n",
       "      <td>0</td>\n",
       "    </tr>\n",
       "    <tr>\n",
       "      <th>8</th>\n",
       "      <td>27419</td>\n",
       "      <td>Female</td>\n",
       "      <td>59.0</td>\n",
       "      <td>0</td>\n",
       "      <td>0</td>\n",
       "      <td>Yes</td>\n",
       "      <td>Private</td>\n",
       "      <td>Rural</td>\n",
       "      <td>76.15</td>\n",
       "      <td>NaN</td>\n",
       "      <td>Unknown</td>\n",
       "      <td>1</td>\n",
       "      <td>0</td>\n",
       "    </tr>\n",
       "    <tr>\n",
       "      <th>13</th>\n",
       "      <td>8213</td>\n",
       "      <td>Male</td>\n",
       "      <td>78.0</td>\n",
       "      <td>0</td>\n",
       "      <td>1</td>\n",
       "      <td>Yes</td>\n",
       "      <td>Private</td>\n",
       "      <td>Urban</td>\n",
       "      <td>219.84</td>\n",
       "      <td>NaN</td>\n",
       "      <td>Unknown</td>\n",
       "      <td>1</td>\n",
       "      <td>1</td>\n",
       "    </tr>\n",
       "    <tr>\n",
       "      <th>19</th>\n",
       "      <td>25226</td>\n",
       "      <td>Male</td>\n",
       "      <td>57.0</td>\n",
       "      <td>0</td>\n",
       "      <td>1</td>\n",
       "      <td>No</td>\n",
       "      <td>Govt_job</td>\n",
       "      <td>Urban</td>\n",
       "      <td>217.08</td>\n",
       "      <td>NaN</td>\n",
       "      <td>Unknown</td>\n",
       "      <td>1</td>\n",
       "      <td>1</td>\n",
       "    </tr>\n",
       "    <tr>\n",
       "      <th>27</th>\n",
       "      <td>61843</td>\n",
       "      <td>Male</td>\n",
       "      <td>58.0</td>\n",
       "      <td>0</td>\n",
       "      <td>0</td>\n",
       "      <td>Yes</td>\n",
       "      <td>Private</td>\n",
       "      <td>Rural</td>\n",
       "      <td>189.84</td>\n",
       "      <td>NaN</td>\n",
       "      <td>Unknown</td>\n",
       "      <td>1</td>\n",
       "      <td>1</td>\n",
       "    </tr>\n",
       "    <tr>\n",
       "      <th>...</th>\n",
       "      <td>...</td>\n",
       "      <td>...</td>\n",
       "      <td>...</td>\n",
       "      <td>...</td>\n",
       "      <td>...</td>\n",
       "      <td>...</td>\n",
       "      <td>...</td>\n",
       "      <td>...</td>\n",
       "      <td>...</td>\n",
       "      <td>...</td>\n",
       "      <td>...</td>\n",
       "      <td>...</td>\n",
       "      <td>...</td>\n",
       "    </tr>\n",
       "    <tr>\n",
       "      <th>5039</th>\n",
       "      <td>42007</td>\n",
       "      <td>Male</td>\n",
       "      <td>41.0</td>\n",
       "      <td>0</td>\n",
       "      <td>0</td>\n",
       "      <td>No</td>\n",
       "      <td>Private</td>\n",
       "      <td>Rural</td>\n",
       "      <td>70.15</td>\n",
       "      <td>NaN</td>\n",
       "      <td>formerly smoked</td>\n",
       "      <td>0</td>\n",
       "      <td>1</td>\n",
       "    </tr>\n",
       "    <tr>\n",
       "      <th>5048</th>\n",
       "      <td>28788</td>\n",
       "      <td>Male</td>\n",
       "      <td>40.0</td>\n",
       "      <td>0</td>\n",
       "      <td>0</td>\n",
       "      <td>Yes</td>\n",
       "      <td>Private</td>\n",
       "      <td>Urban</td>\n",
       "      <td>191.15</td>\n",
       "      <td>NaN</td>\n",
       "      <td>smokes</td>\n",
       "      <td>0</td>\n",
       "      <td>1</td>\n",
       "    </tr>\n",
       "    <tr>\n",
       "      <th>5093</th>\n",
       "      <td>32235</td>\n",
       "      <td>Female</td>\n",
       "      <td>45.0</td>\n",
       "      <td>1</td>\n",
       "      <td>0</td>\n",
       "      <td>Yes</td>\n",
       "      <td>Govt_job</td>\n",
       "      <td>Rural</td>\n",
       "      <td>95.02</td>\n",
       "      <td>NaN</td>\n",
       "      <td>smokes</td>\n",
       "      <td>0</td>\n",
       "      <td>0</td>\n",
       "    </tr>\n",
       "    <tr>\n",
       "      <th>5099</th>\n",
       "      <td>7293</td>\n",
       "      <td>Male</td>\n",
       "      <td>40.0</td>\n",
       "      <td>0</td>\n",
       "      <td>0</td>\n",
       "      <td>Yes</td>\n",
       "      <td>Private</td>\n",
       "      <td>Rural</td>\n",
       "      <td>83.94</td>\n",
       "      <td>NaN</td>\n",
       "      <td>smokes</td>\n",
       "      <td>0</td>\n",
       "      <td>1</td>\n",
       "    </tr>\n",
       "    <tr>\n",
       "      <th>5105</th>\n",
       "      <td>18234</td>\n",
       "      <td>Female</td>\n",
       "      <td>80.0</td>\n",
       "      <td>1</td>\n",
       "      <td>0</td>\n",
       "      <td>Yes</td>\n",
       "      <td>Private</td>\n",
       "      <td>Urban</td>\n",
       "      <td>83.75</td>\n",
       "      <td>NaN</td>\n",
       "      <td>never smoked</td>\n",
       "      <td>0</td>\n",
       "      <td>0</td>\n",
       "    </tr>\n",
       "  </tbody>\n",
       "</table>\n",
       "<p>201 rows × 13 columns</p>\n",
       "</div>"
      ],
      "text/plain": [
       "         id  gender   age  hypertension  heart_disease ever_married  \\\n",
       "1     51676  Female  61.0             0              0          Yes   \n",
       "8     27419  Female  59.0             0              0          Yes   \n",
       "13     8213    Male  78.0             0              1          Yes   \n",
       "19    25226    Male  57.0             0              1           No   \n",
       "27    61843    Male  58.0             0              0          Yes   \n",
       "...     ...     ...   ...           ...            ...          ...   \n",
       "5039  42007    Male  41.0             0              0           No   \n",
       "5048  28788    Male  40.0             0              0          Yes   \n",
       "5093  32235  Female  45.0             1              0          Yes   \n",
       "5099   7293    Male  40.0             0              0          Yes   \n",
       "5105  18234  Female  80.0             1              0          Yes   \n",
       "\n",
       "          work_type Residence_type  avg_glucose_level  bmi   smoking_status  \\\n",
       "1     Self-employed          Rural             202.21  NaN     never smoked   \n",
       "8           Private          Rural              76.15  NaN          Unknown   \n",
       "13          Private          Urban             219.84  NaN          Unknown   \n",
       "19         Govt_job          Urban             217.08  NaN          Unknown   \n",
       "27          Private          Rural             189.84  NaN          Unknown   \n",
       "...             ...            ...                ...  ...              ...   \n",
       "5039        Private          Rural              70.15  NaN  formerly smoked   \n",
       "5048        Private          Urban             191.15  NaN           smokes   \n",
       "5093       Govt_job          Rural              95.02  NaN           smokes   \n",
       "5099        Private          Rural              83.94  NaN           smokes   \n",
       "5105        Private          Urban              83.75  NaN     never smoked   \n",
       "\n",
       "      stroke  gender_numerico  \n",
       "1          1                0  \n",
       "8          1                0  \n",
       "13         1                1  \n",
       "19         1                1  \n",
       "27         1                1  \n",
       "...      ...              ...  \n",
       "5039       0                1  \n",
       "5048       0                1  \n",
       "5093       0                0  \n",
       "5099       0                1  \n",
       "5105       0                0  \n",
       "\n",
       "[201 rows x 13 columns]"
      ]
     },
     "execution_count": 37,
     "metadata": {},
     "output_type": "execute_result"
    }
   ],
   "source": [
    "df[df.isnull().any(axis=1)]"
   ]
  },
  {
   "cell_type": "markdown",
   "id": "sH0_PT_w6615",
   "metadata": {
    "id": "sH0_PT_w6615"
   },
   "source": [
    "Crear un flag para indicar los valores faltantes para las variables con valores nulos"
   ]
  },
  {
   "cell_type": "markdown",
   "id": "R2cy6Ach7AIT",
   "metadata": {
    "id": "R2cy6Ach7AIT"
   },
   "source": [
    "Rellene los valores faltantes con la media"
   ]
  },
  {
   "cell_type": "code",
   "execution_count": 38,
   "id": "tTAgRp3m7f4D",
   "metadata": {
    "ExecuteTime": {
     "end_time": "2024-04-06T14:00:53.540573Z",
     "start_time": "2024-04-06T14:00:53.525570Z"
    },
    "id": "tTAgRp3m7f4D"
   },
   "outputs": [],
   "source": [
    "df['bmi'] = df['bmi'].fillna(df['bmi'].mean())"
   ]
  },
  {
   "cell_type": "markdown",
   "id": "SjOJJZ3i7f4E",
   "metadata": {
    "id": "SjOJJZ3i7f4E"
   },
   "source": [
    "## Análisis de Correlación\n"
   ]
  },
  {
   "cell_type": "markdown",
   "id": "BAfYbNZj7Hfp",
   "metadata": {
    "id": "BAfYbNZj7Hfp"
   },
   "source": [
    "Analice la correlación entre las variables, presente un heatmap y extraiga conclusiones"
   ]
  },
  {
   "cell_type": "code",
   "execution_count": 39,
   "id": "f1dedd7e27c75194",
   "metadata": {
    "ExecuteTime": {
     "end_time": "2024-04-06T14:00:53.881649Z",
     "start_time": "2024-04-06T14:00:53.541573Z"
    }
   },
   "outputs": [
    {
     "data": {
      "image/png": "[encoded data removed]",
      "text/plain": [
       "<Figure size 720x432 with 2 Axes>"
      ]
     },
     "metadata": {
      "needs_background": "light"
     },
     "output_type": "display_data"
    }
   ],
   "source": [
    "plt.figure(figsize=(10, 6))\n",
    "sns.heatmap(df.corr(), annot=True, cmap= 'coolwarm', fmt='.2f')\n",
    "plt.xticks(rotation=45)\n",
    "plt.show()"
   ]
  },
  {
   "cell_type": "markdown",
   "id": "5fda52a4da6df93c",
   "metadata": {},
   "source": [
    "No hay ningun dato fuera de lo normal. Hay cierta correlacion logica entre la edad y los problemas de salud."
   ]
  }
 ],
 "metadata": {
  "colab": {
   "provenance": []
  },
  "kernelspec": {
   "display_name": "Python 3 (ipykernel)",
   "language": "python",
   "name": "python3"
  },
  "language_info": {
   "codemirror_mode": {
    "name": "ipython",
    "version": 3
   },
   "file_extension": ".py",
   "mimetype": "text/x-python",
   "name": "python",
   "nbconvert_exporter": "python",
   "pygments_lexer": "ipython3",
   "version": "3.10.3"
  }
 },
 "nbformat": 4,
 "nbformat_minor": 5
}
