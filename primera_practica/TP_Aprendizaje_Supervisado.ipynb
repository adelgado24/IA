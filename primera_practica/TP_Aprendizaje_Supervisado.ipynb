{
 "nbformat": 4,
 "nbformat_minor": 0,
 "metadata": {
  "kernelspec": {
   "display_name": "Python 3",
   "language": "python",
   "name": "python3"
  },
  "language_info": {
   "codemirror_mode": {
    "name": "ipython",
    "version": 3
   },
   "file_extension": ".py",
   "mimetype": "text/x-python",
   "name": "python",
   "nbconvert_exporter": "python",
   "pygments_lexer": "ipython3",
   "version": "3.6.10"
  },
  "colab": {
   "provenance": [],
   "collapsed_sections": [
    "gUlXEJy5RXCN"
   ]
  }
 },
 "cells": [
  {
   "cell_type": "markdown",
   "metadata": {
    "id": "TMxGdRkwax1d"
   },
   "source": [
    "# Mini Proyecto : Aprendizaje Supervisado\n",
    "**Inteligencia Artificial**"
   ]
  },
  {
   "cell_type": "code",
   "metadata": {
    "id": "_d2jqf2dRW7i",
    "ExecuteTime": {
     "end_time": "2024-03-27T22:19:11.057861Z",
     "start_time": "2024-03-27T22:19:11.017272Z"
    }
   },
   "source": [
    "from IPython.core.display import Image, display\n",
    "%matplotlib inline\n",
    "%config InlineBackend.figure_format = 'retina'  \n",
    "import matplotlib.pyplot as plt\n",
    "import numpy as np\n",
    "import pandas as pd\n",
    "\n",
    "from scipy.stats import multivariate_normal, norm\n",
    "\n",
    "from sklearn.model_selection import train_test_split\n",
    "from sklearn.preprocessing import StandardScaler\n",
    "from sklearn.linear_model import LogisticRegression as LR\n",
    "\n",
    "from warnings import filterwarnings\n",
    "filterwarnings('ignore')\n",
    "\n",
    "# Configuración de las figuras matplotlib\n",
    "plt.rcParams['figure.figsize'] = [8, 6]\n",
    "plt.rcParams.update({'font.size': 12})"
   ],
   "execution_count": 4,
   "outputs": [
    {
     "name": "stderr",
     "output_type": "stream",
     "text": [
      "C:\\Users\\agusd\\AppData\\Local\\Temp\\ipykernel_15156\\823033045.py:1: DeprecationWarning: Importing display from IPython.core.display is deprecated since IPython 7.14, please import from IPython display\n",
      "  from IPython.core.display import Image, display\n"
     ]
    }
   ]
  },
  {
   "cell_type": "markdown",
   "source": [
    "### Ejercicio de aprendizaje supervisado (prediciendo mora)\n",
    "Este conjunto de datos clasifica a las personas descritas por un conjunto de atributos como buenos o malos según su riesgo crediticio."
   ],
   "metadata": {
    "id": "n718h_loGk49"
   }
  },
  {
   "cell_type": "markdown",
   "source": [
    "### Carga de datos\n",
    "El dataset y su descripción se obtiene de la página:\n",
    " https://archive.ics.uci.edu/ml/datasets/statlog+(german+credit+data)\n",
    " \n"
   ],
   "metadata": {
    "id": "07uMAUU3E1Yd"
   }
  },
  {
   "cell_type": "code",
   "execution_count": 5,
   "outputs": [],
   "source": [
    "def load_data():\n",
    "  data = pd.read_csv('https://archive.ics.uci.edu/ml/machine-learning-databases/statlog/german/german.data',\n",
    "                     delimiter=\" \",\n",
    "                     header=None)\n",
    "  data.columns=['existingchecking',\n",
    "                'duration',\n",
    "                'credithistory',\n",
    "                'purpose',\n",
    "                'creditamount',\n",
    "                'savings',\n",
    "                'employmentsince',\n",
    "                'installmentrate',\n",
    "                'statussex',\n",
    "                'otherdebtors',\n",
    "                'residencesince',\n",
    "                'property',\n",
    "                'age',\n",
    "                'otherinstallmentplans',\n",
    "                'housing',\n",
    "                'existingcredits',\n",
    "                'job',\n",
    "                'peopleliable',\n",
    "                'telephone',\n",
    "                'foreignworker',\n",
    "                'target'\n",
    "                ]\n",
    "  data.loc[:,'target'] = data['target'].replace([1,2],[1,0])\n",
    "  return data"
   ],
   "metadata": {
    "collapsed": false,
    "pycharm": {
     "name": "#%%\n"
    },
    "ExecuteTime": {
     "end_time": "2024-03-27T22:19:14.080958Z",
     "start_time": "2024-03-27T22:19:14.062943Z"
    }
   }
  },
  {
   "cell_type": "markdown",
   "source": [
    "# Ejercicio\n",
    "---\n",
    "\n",
    "Como parte del equipo de riesgos de una entidad financiera se le solicita utilizando la base de datos *german*, que desarrolle el mejor modelo que me permita clasificar a los clientes en riesgosos y no riesgosos desde el punto de vista de la probabilidad de caer en mora."
   ],
   "metadata": {
    "collapsed": false
   }
  },
  {
   "cell_type": "markdown",
   "source": [
    "Para esto tenga en cuenta lo siguiente:\n",
    "\n",
    "1) Realice un análisis explortorio tanto visual como formal y extraiga conclusiones\n",
    "\n",
    "2) Realice una preparación y preprocesado de los datos de acuerdo a lo observado. Por ej. analice nulos, outliers, codifique de forma adecuado las variables categóricas, analice el desbalanceo de clases, etc.\n",
    "\n",
    "3) Compare las prestaciones en un conjunto de test de los siguientes clasificadores en términos de área bajo la curva ROC (AUC-ROC) y F1-score:\n",
    "\n",
    "- Regresión Logística con regularización L2, validando el parámetro $C$ de regularización.\n",
    "- Random Forest validando tanto el número de estimadores y el máximo número de hojas.\n",
    "- XGBoost validando el el número de estimadores, la máxima profundidad del arbol y learning_rate.\n",
    "- Elija algún otro algoritmo si lo considera necesario\n",
    "\n",
    "\n",
    "**En todos los casos, valide el número de variables a la entrada usando el criterio de información mútua y seleccione rangos de validación adecuados para cada hiperparámetro utilizando Gridsearch y Cross Validation.\n",
    "Y utilice Pipeline de sklearn para garantizar la ejecución ordenada de los distintos pasos\n",
    "\n",
    "4) Represente también en una única gráfica la curva ROC de los cuatro clasificadores.\n",
    "\n",
    "5) Recomiende el mejor clasificador y explique su elección\n"
   ],
   "metadata": {
    "collapsed": false
   }
  },
  {
   "cell_type": "markdown",
   "source": [
    "**Muestre, mediante gráficos y explicaciones acordes, las conclusiones a las que ha arribado durante y luego del aprendizaje.\n",
    "Documente cada uno de los pasos del análisis para demostrar su entendimiento sobre el tema.**\n",
    "\n"
   ],
   "metadata": {
    "collapsed": false
   }
  },
  {
   "cell_type": "code",
   "source": [
    "data = load_data()\n",
    "print(\"Cargadas {0:d} observaciones con {1:d} columnas\\n\".format(len(data), len(data.columns)))"
   ],
   "metadata": {
    "colab": {
     "base_uri": "https://localhost:8080/"
    },
    "id": "qgSeiCRrL7l2",
    "outputId": "9313fa20-0f0a-4c34-e1dd-36038faa2d2b",
    "ExecuteTime": {
     "end_time": "2024-03-27T22:19:18.485775Z",
     "start_time": "2024-03-27T22:19:17.081972Z"
    }
   },
   "execution_count": 6,
   "outputs": [
    {
     "name": "stdout",
     "output_type": "stream",
     "text": [
      "Cargadas 1000 observaciones con 21 columnas\n"
     ]
    }
   ]
  },
  {
   "cell_type": "code",
   "source": [
    "data.head()"
   ],
   "metadata": {
    "colab": {
     "base_uri": "https://localhost:8080/",
     "height": 299
    },
    "id": "6VE2z8nZMHXE",
    "outputId": "82044bc0-6cd3-4ebf-ffcc-f3e2114c377e",
    "ExecuteTime": {
     "end_time": "2024-03-27T22:19:19.697444Z",
     "start_time": "2024-03-27T22:19:19.672515Z"
    }
   },
   "execution_count": 7,
   "outputs": [
    {
     "data": {
      "text/plain": "  existingchecking  duration credithistory purpose  creditamount savings   \n0              A11         6           A34     A43          1169     A65  \\\n1              A12        48           A32     A43          5951     A61   \n2              A14        12           A34     A46          2096     A61   \n3              A11        42           A32     A42          7882     A61   \n4              A11        24           A33     A40          4870     A61   \n\n  employmentsince  installmentrate statussex otherdebtors  ...  property age   \n0             A75                4       A93         A101  ...      A121  67  \\\n1             A73                2       A92         A101  ...      A121  22   \n2             A74                2       A93         A101  ...      A121  49   \n3             A74                2       A93         A103  ...      A122  45   \n4             A73                3       A93         A101  ...      A124  53   \n\n   otherinstallmentplans housing existingcredits   job peopleliable   \n0                   A143    A152               2  A173            1  \\\n1                   A143    A152               1  A173            1   \n2                   A143    A152               1  A172            2   \n3                   A143    A153               1  A173            2   \n4                   A143    A153               2  A173            2   \n\n   telephone foreignworker target  \n0       A192          A201      1  \n1       A191          A201      0  \n2       A191          A201      1  \n3       A191          A201      1  \n4       A191          A201      0  \n\n[5 rows x 21 columns]",
      "text/html": "<div>\n<style scoped>\n    .dataframe tbody tr th:only-of-type {\n        vertical-align: middle;\n    }\n\n    .dataframe tbody tr th {\n        vertical-align: top;\n    }\n\n    .dataframe thead th {\n        text-align: right;\n    }\n</style>\n<table border=\"1\" class=\"dataframe\">\n  <thead>\n    <tr style=\"text-align: right;\">\n      <th></th>\n      <th>existingchecking</th>\n      <th>duration</th>\n      <th>credithistory</th>\n      <th>purpose</th>\n      <th>creditamount</th>\n      <th>savings</th>\n      <th>employmentsince</th>\n      <th>installmentrate</th>\n      <th>statussex</th>\n      <th>otherdebtors</th>\n      <th>...</th>\n      <th>property</th>\n      <th>age</th>\n      <th>otherinstallmentplans</th>\n      <th>housing</th>\n      <th>existingcredits</th>\n      <th>job</th>\n      <th>peopleliable</th>\n      <th>telephone</th>\n      <th>foreignworker</th>\n      <th>target</th>\n    </tr>\n  </thead>\n  <tbody>\n    <tr>\n      <th>0</th>\n      <td>A11</td>\n      <td>6</td>\n      <td>A34</td>\n      <td>A43</td>\n      <td>1169</td>\n      <td>A65</td>\n      <td>A75</td>\n      <td>4</td>\n      <td>A93</td>\n      <td>A101</td>\n      <td>...</td>\n      <td>A121</td>\n      <td>67</td>\n      <td>A143</td>\n      <td>A152</td>\n      <td>2</td>\n      <td>A173</td>\n      <td>1</td>\n      <td>A192</td>\n      <td>A201</td>\n      <td>1</td>\n    </tr>\n    <tr>\n      <th>1</th>\n      <td>A12</td>\n      <td>48</td>\n      <td>A32</td>\n      <td>A43</td>\n      <td>5951</td>\n      <td>A61</td>\n      <td>A73</td>\n      <td>2</td>\n      <td>A92</td>\n      <td>A101</td>\n      <td>...</td>\n      <td>A121</td>\n      <td>22</td>\n      <td>A143</td>\n      <td>A152</td>\n      <td>1</td>\n      <td>A173</td>\n      <td>1</td>\n      <td>A191</td>\n      <td>A201</td>\n      <td>0</td>\n    </tr>\n    <tr>\n      <th>2</th>\n      <td>A14</td>\n      <td>12</td>\n      <td>A34</td>\n      <td>A46</td>\n      <td>2096</td>\n      <td>A61</td>\n      <td>A74</td>\n      <td>2</td>\n      <td>A93</td>\n      <td>A101</td>\n      <td>...</td>\n      <td>A121</td>\n      <td>49</td>\n      <td>A143</td>\n      <td>A152</td>\n      <td>1</td>\n      <td>A172</td>\n      <td>2</td>\n      <td>A191</td>\n      <td>A201</td>\n      <td>1</td>\n    </tr>\n    <tr>\n      <th>3</th>\n      <td>A11</td>\n      <td>42</td>\n      <td>A32</td>\n      <td>A42</td>\n      <td>7882</td>\n      <td>A61</td>\n      <td>A74</td>\n      <td>2</td>\n      <td>A93</td>\n      <td>A103</td>\n      <td>...</td>\n      <td>A122</td>\n      <td>45</td>\n      <td>A143</td>\n      <td>A153</td>\n      <td>1</td>\n      <td>A173</td>\n      <td>2</td>\n      <td>A191</td>\n      <td>A201</td>\n      <td>1</td>\n    </tr>\n    <tr>\n      <th>4</th>\n      <td>A11</td>\n      <td>24</td>\n      <td>A33</td>\n      <td>A40</td>\n      <td>4870</td>\n      <td>A61</td>\n      <td>A73</td>\n      <td>3</td>\n      <td>A93</td>\n      <td>A101</td>\n      <td>...</td>\n      <td>A124</td>\n      <td>53</td>\n      <td>A143</td>\n      <td>A153</td>\n      <td>2</td>\n      <td>A173</td>\n      <td>2</td>\n      <td>A191</td>\n      <td>A201</td>\n      <td>0</td>\n    </tr>\n  </tbody>\n</table>\n<p>5 rows × 21 columns</p>\n</div>"
     },
     "execution_count": 7,
     "metadata": {},
     "output_type": "execute_result"
    }
   ]
  },
  {
   "cell_type": "code",
   "outputs": [],
   "source": [],
   "metadata": {
    "collapsed": false
   }
  }
 ]
}
