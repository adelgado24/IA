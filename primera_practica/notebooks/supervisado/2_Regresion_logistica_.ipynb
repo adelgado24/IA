{
  "nbformat": 4,
  "nbformat_minor": 0,
  "metadata": {
    "colab": {
      "provenance": []
    },
    "kernelspec": {
      "display_name": "Python 3",
      "language": "python",
      "name": "python3"
    }
  },
  "cells": [
    {
      "metadata": {
        "id": "52ze5E2S1vbs"
      },
      "cell_type": "markdown",
      "source": [
        "# Clasificación: Regresión Logística"
      ]
    },
    {
      "metadata": {
        "id": "4LX4bXUb1vbt"
      },
      "cell_type": "code",
      "source": [
        "%matplotlib inline\n",
        "import matplotlib.pyplot as plt\n",
        "import numpy as np"
      ],
      "execution_count": null,
      "outputs": []
    },
    {
      "metadata": {
        "id": "p8wpaE6E1vb1"
      },
      "cell_type": "code",
      "source": [
        "import seaborn as sns"
      ],
      "execution_count": null,
      "outputs": []
    },
    {
      "metadata": {
        "id": "pV7CJZp91vb4"
      },
      "cell_type": "markdown",
      "source": [
        "En este notebook vamos a estudiar los conceptos básicos de Clasificación y como podemos aplicarla usando la API de scikit-learn. Nos focalizaremos en Regresión Logística, pero veréis que es muy fácil aplicar otros algoritmos con la api de scikit-learn."
      ]
    },
    {
      "metadata": {
        "id": "sBxnCuQq1vb5"
      },
      "cell_type": "markdown",
      "source": [
        "Para empezar, vamos a crear un dataset sintético que podamos aplicar en nuestro primer problema de clasificación.\n",
        "Será un problema de clasificación binaria en el que, para ir entendiendo los conceptos, sólo utilizaremos dos predictores."
      ]
    },
    {
      "metadata": {
        "id": "B9QmsgK41vb6",
        "colab": {
          "base_uri": "https://localhost:8080/"
        },
        "outputId": "93ffb31a-c780-4f1d-80bb-c03d7a96a56d"
      },
      "cell_type": "code",
      "source": [
        "from sklearn.datasets import make_blobs\n",
        "\n",
        "X, y = make_blobs(centers=2, random_state=0, n_samples=200)\n",
        "\n",
        "print('X ~ n_samples x n_features:', X.shape)\n",
        "print('y ~ n_samples:', y.shape)\n",
        "\n",
        "print('\\nFirst 5 samples:\\n', X[:5, :])\n",
        "print('\\nFirst 5 labels:', y[:5])"
      ],
      "execution_count": null,
      "outputs": [
        {
          "output_type": "stream",
          "name": "stdout",
          "text": [
            "X ~ n_samples x n_features: (200, 2)\n",
            "y ~ n_samples: (200,)\n",
            "\n",
            "First 5 samples:\n",
            " [[2.8219307  1.25395648]\n",
            " [1.65581849 1.26771955]\n",
            " [3.12377692 0.44427786]\n",
            " [1.4178305  0.50039185]\n",
            " [2.50904929 5.7731461 ]]\n",
            "\n",
            "First 5 labels: [1 1 1 1 0]\n"
          ]
        }
      ]
    },
    {
      "cell_type": "code",
      "source": [],
      "metadata": {
        "id": "o0M85fiuxD4i"
      },
      "execution_count": null,
      "outputs": []
    },
    {
      "metadata": {
        "id": "7FpHTIyk1vcB"
      },
      "cell_type": "markdown",
      "source": [
        "Como hemos hecho que nuestros datos sean bidimiensionales, podemos mostrarlos en un plot 2D donde la primera característica corresponda al eje *x* y la segunda característica al eje *y*."
      ]
    },
    {
      "metadata": {
        "id": "al-qSmCc1vcD",
        "colab": {
          "base_uri": "https://localhost:8080/",
          "height": 449
        },
        "outputId": "82f28141-4801-4138-a6f2-17e0dad72b65"
      },
      "cell_type": "code",
      "source": [
        "plt.scatter(X[y == 0, 0], X[y == 0, 1], s=40, label='0', marker='^')\n",
        "plt.scatter(X[y == 1, 0], X[y == 1, 1], s=40, label='1', c='orange', marker='x')\n",
        "\n",
        "plt.xlabel('first feature')\n",
        "plt.ylabel('second feature')\n",
        "plt.legend(loc='upper right');"
      ],
      "execution_count": null,
      "outputs": [
        {
          "output_type": "display_data",
          "data": {
            "text/plain": [
              "<Figure size 640x480 with 1 Axes>"
            ],
            "image/png": "[encoded data removed]"
          },
          "metadata": {}
        }
      ]
    },
    {
      "metadata": {
        "id": "EHN29Y6W1vcH"
      },
      "cell_type": "markdown",
      "source": [
        "Para evaluar los modelos que vamos a crear, vamos a separar el dataset en *train* y *test*. Recordad que estos dos conjuntos nos permiten:\n",
        "\n",
        "1. **Training**: Ajustar el modelo a los datos de entrenamiento.\n",
        "2. **Test**: Evaluar la capacidad de generalizar del modelo.\n",
        "\n",
        "\n",
        "Para separar los dos conjuntos utilizamos la función `train_test_split` del módulo `model_selection`. Separaremos ambos conjuntos con un ratio de 75/25."
      ]
    },
    {
      "metadata": {
        "id": "k7YFSFsD1vcJ"
      },
      "cell_type": "code",
      "source": [
        "from sklearn.model_selection import train_test_split\n",
        "\n",
        "X_train, X_test, y_train, y_test = train_test_split(X, y,\n",
        "                                                    test_size=0.25,\n",
        "                                                    random_state=1234,\n",
        "                                                    stratify=y)   # Atención: pasamos la \"y\""
      ],
      "execution_count": null,
      "outputs": []
    },
    {
      "metadata": {
        "id": "t3wn8RU21vcL",
        "colab": {
          "base_uri": "https://localhost:8080/"
        },
        "outputId": "49a630d4-14c1-4f2a-a424-6643c5d78db9"
      },
      "cell_type": "code",
      "source": [
        "X_train.shape"
      ],
      "execution_count": null,
      "outputs": [
        {
          "output_type": "execute_result",
          "data": {
            "text/plain": [
              "(150, 2)"
            ]
          },
          "metadata": {},
          "execution_count": 6
        }
      ]
    },
    {
      "metadata": {
        "id": "bkrnGP1f1vcP",
        "outputId": "31b0d415-cebb-4d0b-a5a7-0448dacea4ca",
        "colab": {
          "base_uri": "https://localhost:8080/"
        }
      },
      "cell_type": "code",
      "source": [
        "y_train.shape"
      ],
      "execution_count": null,
      "outputs": [
        {
          "output_type": "execute_result",
          "data": {
            "text/plain": [
              "(150,)"
            ]
          },
          "metadata": {},
          "execution_count": 7
        }
      ]
    },
    {
      "metadata": {
        "id": "68vUKuGU1vcU"
      },
      "cell_type": "markdown",
      "source": [
        "Todos los algoritmos implementados en scikit-learn están expuestos en su API mediante objetos de tipo *Estimator*, que garantiza que todos los modelos disponen de la misma API:\n",
        "\n",
        "- `Estimator.`**`fit(X, y)`**: ajusta los parámetros del modelo a los datos\n",
        "- `Estimator.`**`predict(X)`**: predicce los valores de salida para datos nuevos\n",
        "- `Estimator.`**`score(X, y)`**: evalúa los resultados de la predicción\n",
        "\n",
        "Nosotros utilizaremos el objeto LogisticRegression para nuestra tarea de clasificación:"
      ]
    },
    {
      "metadata": {
        "id": "dhSo3azx1vcV"
      },
      "cell_type": "code",
      "source": [
        "from sklearn.linear_model import LogisticRegression\n",
        "\n",
        "classifier = LogisticRegression()"
      ],
      "execution_count": null,
      "outputs": []
    },
    {
      "metadata": {
        "id": "lSHUBULu1vcY"
      },
      "cell_type": "markdown",
      "source": [
        "Para entrenar el modelo, simplemente tenemos que llamar al método **`fit`** de nuestro objeto `classifier`, indicándole los datos de entrenamiento y las etiquetas asociadas a esos datos:"
      ]
    },
    {
      "metadata": {
        "id": "ZDkvRTte1vcZ",
        "colab": {
          "base_uri": "https://localhost:8080/",
          "height": 90
        },
        "outputId": "36f298b5-9fdd-44b1-f946-b4a23b6d866d"
      },
      "cell_type": "code",
      "source": [
        "classifier.fit(X_train, y_train)"
      ],
      "execution_count": null,
      "outputs": [
        {
          "output_type": "execute_result",
          "data": {
            "text/plain": [
              "LogisticRegression(C=1.0, class_weight=None, dual=False, fit_intercept=True,\n",
              "          intercept_scaling=1, max_iter=100, multi_class='ovr', n_jobs=1,\n",
              "          penalty='l2', random_state=None, solver='liblinear', tol=0.0001,\n",
              "          verbose=0, warm_start=False)"
            ]
          },
          "metadata": {
            "tags": []
          },
          "execution_count": 10
        }
      ]
    },
    {
      "metadata": {
        "id": "zd3L1LUR1vcd"
      },
      "cell_type": "markdown",
      "source": [
        "Una vez tenemos el modelo entrenado, podemos empezar a realizar predicciones con datos nuevos:"
      ]
    },
    {
      "metadata": {
        "id": "6rp_62DS1vce",
        "colab": {
          "base_uri": "https://localhost:8080/",
          "height": 72
        },
        "outputId": "43a80559-89ed-45bd-a8d7-0a17df76afdd"
      },
      "cell_type": "code",
      "source": [
        "prediction = classifier.predict(X_test)\n",
        "prediction"
      ],
      "execution_count": null,
      "outputs": [
        {
          "output_type": "execute_result",
          "data": {
            "text/plain": [
              "array([1, 0, 0, 1, 0, 0, 1, 0, 1, 1, 1, 0, 1, 1, 0, 1, 0, 0, 0, 0, 0, 1,\n",
              "       0, 0, 0, 0, 1, 0, 0, 1, 1, 1, 0, 0, 0, 0, 0, 1, 1, 1, 0, 0, 0, 1,\n",
              "       0, 1, 1, 0, 1, 1])"
            ]
          },
          "metadata": {
            "tags": []
          },
          "execution_count": 11
        }
      ]
    },
    {
      "metadata": {
        "scrolled": true,
        "id": "FOUuSPDp1vcj",
        "colab": {
          "base_uri": "https://localhost:8080/",
          "height": 926
        },
        "outputId": "0a76cc9f-8d6e-4895-bdd3-8d4423198e84"
      },
      "cell_type": "code",
      "source": [
        "classifier.predict_proba(X_test).round(2)"
      ],
      "execution_count": null,
      "outputs": [
        {
          "output_type": "execute_result",
          "data": {
            "text/plain": [
              "array([[0.15, 0.85],\n",
              "       [1.  , 0.  ],\n",
              "       [1.  , 0.  ],\n",
              "       [0.01, 0.99],\n",
              "       [0.97, 0.03],\n",
              "       [0.97, 0.03],\n",
              "       [0.01, 0.99],\n",
              "       [0.99, 0.01],\n",
              "       [0.06, 0.94],\n",
              "       [0.49, 0.51],\n",
              "       [0.41, 0.59],\n",
              "       [0.91, 0.09],\n",
              "       [0.16, 0.84],\n",
              "       [0.1 , 0.9 ],\n",
              "       [0.81, 0.19],\n",
              "       [0.02, 0.98],\n",
              "       [0.99, 0.01],\n",
              "       [1.  , 0.  ],\n",
              "       [0.6 , 0.4 ],\n",
              "       [0.86, 0.14],\n",
              "       [1.  , 0.  ],\n",
              "       [0.02, 0.98],\n",
              "       [0.97, 0.03],\n",
              "       [0.95, 0.05],\n",
              "       [0.57, 0.43],\n",
              "       [1.  , 0.  ],\n",
              "       [0.01, 0.99],\n",
              "       [1.  , 0.  ],\n",
              "       [0.96, 0.04],\n",
              "       [0.06, 0.94],\n",
              "       [0.18, 0.82],\n",
              "       [0.01, 0.99],\n",
              "       [1.  , 0.  ],\n",
              "       [0.99, 0.01],\n",
              "       [0.98, 0.02],\n",
              "       [0.99, 0.01],\n",
              "       [0.98, 0.02],\n",
              "       [0.01, 0.99],\n",
              "       [0.  , 1.  ],\n",
              "       [0.  , 1.  ],\n",
              "       [1.  , 0.  ],\n",
              "       [0.96, 0.04],\n",
              "       [1.  , 0.  ],\n",
              "       [0.06, 0.94],\n",
              "       [0.65, 0.35],\n",
              "       [0.02, 0.98],\n",
              "       [0.  , 1.  ],\n",
              "       [0.99, 0.01],\n",
              "       [0.41, 0.59],\n",
              "       [0.04, 0.96]])"
            ]
          },
          "metadata": {
            "tags": []
          },
          "execution_count": 12
        }
      ]
    },
    {
      "metadata": {
        "id": "l8Gxs7Gv1vco"
      },
      "cell_type": "markdown",
      "source": [
        "Podemos comparar visualmente las predicciones con los valores de $y$ reales:"
      ]
    },
    {
      "metadata": {
        "id": "noygHuKX1vco",
        "colab": {
          "base_uri": "https://localhost:8080/",
          "height": 54
        },
        "outputId": "4db5b90c-6596-467e-c570-2932081f8495"
      },
      "cell_type": "code",
      "source": [
        "print(prediction[:20])\n",
        "print(y_test[:20])"
      ],
      "execution_count": null,
      "outputs": [
        {
          "output_type": "stream",
          "text": [
            "[1 0 0 1 0 0 1 0 1 1 1 0 1 1 0 1 0 0 0 0]\n",
            "[1 0 0 1 0 0 1 0 1 0 1 0 1 1 1 1 0 0 1 0]\n"
          ],
          "name": "stdout"
        }
      ]
    },
    {
      "metadata": {
        "id": "rfS68sSt1vcv"
      },
      "cell_type": "markdown",
      "source": [
        "Para evaluarlo cuantitativamente, podemos computar qué fracción de las predicciones es correcta. A esta métrica se le llama **accuracy**:"
      ]
    },
    {
      "metadata": {
        "id": "v3r2vLFT1vcv",
        "colab": {
          "base_uri": "https://localhost:8080/",
          "height": 35
        },
        "outputId": "646d61b0-99e3-4de2-b050-c70bf3c5a2c9"
      },
      "cell_type": "code",
      "source": [
        "np.mean(prediction == y_test)"
      ],
      "execution_count": null,
      "outputs": [
        {
          "output_type": "execute_result",
          "data": {
            "text/plain": [
              "0.86"
            ]
          },
          "metadata": {
            "tags": []
          },
          "execution_count": 14
        }
      ]
    },
    {
      "metadata": {
        "id": "oZgJ-KBQ1vc2"
      },
      "cell_type": "markdown",
      "source": [
        "Por supuesto, scikit-learn nos provee la función **`score`** para computar el **accuracy** directamente:"
      ]
    },
    {
      "metadata": {
        "id": "M87INLJc1vc3",
        "colab": {
          "base_uri": "https://localhost:8080/",
          "height": 35
        },
        "outputId": "b5208e2d-5c79-4d28-c48a-43f73b875fd9"
      },
      "cell_type": "code",
      "source": [
        "classifier.score(X_test, y_test)"
      ],
      "execution_count": null,
      "outputs": [
        {
          "output_type": "execute_result",
          "data": {
            "text/plain": [
              "0.86"
            ]
          },
          "metadata": {
            "tags": []
          },
          "execution_count": 15
        }
      ]
    },
    {
      "metadata": {
        "id": "aUW2EShE1vc8"
      },
      "cell_type": "markdown",
      "source": [
        "Suele ser muy útil comparar la capacidad de generalización del modelo en el conjunto de test con el accuracy en los datos de entrenamiento (veremos por qué más adelante):\n"
      ]
    },
    {
      "metadata": {
        "id": "4thW2SPA1vc8",
        "colab": {
          "base_uri": "https://localhost:8080/",
          "height": 35
        },
        "outputId": "b941be24-e88e-42bf-dea4-e700dcac3820"
      },
      "cell_type": "code",
      "source": [
        "classifier.score(X_train, y_train)"
      ],
      "execution_count": null,
      "outputs": [
        {
          "output_type": "execute_result",
          "data": {
            "text/plain": [
              "0.98"
            ]
          },
          "metadata": {
            "tags": []
          },
          "execution_count": 16
        }
      ]
    },
    {
      "metadata": {
        "id": "V6TNgYek1vdA"
      },
      "cell_type": "markdown",
      "source": [
        "La Regresión Logística es un modelo linear, esto es, un modelo que crea una decisión que es lineal en el espacio de entrada. En nuestro dataset, esto significa que el umbral de decisión es una recta que separa las dos variables de entrada:"
      ]
    },
    {
      "metadata": {
        "id": "HTKguXp-7sJQ",
        "colab": {
          "resources": {
            "http://localhost:8080/nbextensions/google.colab/files.js": {
              "data": "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",
              "ok": true,
              "headers": [
                [
                  "content-type",
                  "application/javascript"
                ]
              ],
              "status": 200,
              "status_text": ""
            }
          },
          "base_uri": "https://localhost:8080/",
          "height": 202
        },
        "outputId": "ad25b90d-2ad9-4b68-a087-d4f3d06c0669"
      },
      "cell_type": "code",
      "source": [
        "from google.colab import drive\n",
        "drive.mount('/content/drive')\n",
        "\n",
        "from google.colab import files\n",
        "files.upload()"
      ],
      "execution_count": null,
      "outputs": [
        {
          "output_type": "stream",
          "text": [
            "Go to this URL in a browser: https://accounts.google.com/o/oauth2/auth?client_id=947318989803-6bn6qk8qdgf4n4g3pfee6491hc0brc4i.apps.googleusercontent.com&redirect_uri=urn%3Aietf%3Awg%3Aoauth%3A2.0%3Aoob&scope=email%20https%3A%2F%2Fwww.googleapis.com%2Fauth%2Fdocs.test%20https%3A%2F%2Fwww.googleapis.com%2Fauth%2Fdrive%20https%3A%2F%2Fwww.googleapis.com%2Fauth%2Fdrive.photos.readonly%20https%3A%2F%2Fwww.googleapis.com%2Fauth%2Fpeopleapi.readonly&response_type=code\n",
            "\n",
            "Enter your authorization code:\n",
            "··········\n",
            "Mounted at /content/drive\n"
          ],
          "name": "stdout"
        },
        {
          "output_type": "display_data",
          "data": {
            "text/html": [
              "\n",
              "     <input type=\"file\" id=\"files-2a4720b2-5ff0-48e7-9004-3922471424bd\" name=\"files[]\" multiple disabled />\n",
              "     <output id=\"result-2a4720b2-5ff0-48e7-9004-3922471424bd\">\n",
              "      Upload widget is only available when the cell has been executed in the\n",
              "      current browser session. Please rerun this cell to enable.\n",
              "      </output>\n",
              "      <script src=\"/nbextensions/google.colab/files.js\"></script> "
            ],
            "text/plain": [
              "<IPython.core.display.HTML object>"
            ]
          },
          "metadata": {
            "tags": []
          }
        },
        {
          "output_type": "stream",
          "text": [
            "Saving figures.py to figures.py\n"
          ],
          "name": "stdout"
        },
        {
          "output_type": "execute_result",
          "data": {
            "text/plain": [
              "{'figures.py': b'import numpy as np\\nimport matplotlib.pyplot as plt\\n\\n\\ndef plot_2d_separator(classifier, X, fill=False, ax=None, eps=None):\\n    if eps is None:\\n        eps = X.std() / 2.\\n    x_min, x_max = X[:, 0].min() - eps, X[:, 0].max() + eps\\n    y_min, y_max = X[:, 1].min() - eps, X[:, 1].max() + eps\\n    xx = np.linspace(x_min, x_max, 100)\\n    yy = np.linspace(y_min, y_max, 100)\\n\\n    X1, X2 = np.meshgrid(xx, yy)\\n    X_grid = np.c_[X1.ravel(), X2.ravel()]\\n    try:\\n        decision_values = classifier.decision_function(X_grid)\\n        levels = [0]\\n        fill_levels = [decision_values.min(), 0, decision_values.max()]\\n    except AttributeError:\\n        # no decision_function\\n        decision_values = classifier.predict_proba(X_grid)[:, 1]\\n        levels = [.5]\\n        fill_levels = [0, .5, 1]\\n\\n    if ax is None:\\n        ax = plt.gca()\\n    if fill: \\n        ax.contourf(X1, X2, decision_values.reshape(X1.shape),\\n                    levels=fill_levels, colors=[\\'cornflowerblue\\', \\'pink\\'])\\n    else:\\n        ax.contour(X1, X2, decision_values.reshape(X1.shape), levels=levels,\\n                   colors=\"black\")\\n    ax.set_xlim(x_min, x_max)\\n    ax.set_ylim(y_min, y_max)\\n    ax.set_xticks(())\\n    ax.set_yticks(())\\n'}"
            ]
          },
          "metadata": {
            "tags": []
          },
          "execution_count": 18
        }
      ]
    },
    {
      "metadata": {
        "id": "2YBSc4cO8DM3",
        "colab": {
          "base_uri": "https://localhost:8080/",
          "height": 35
        },
        "outputId": "30e40696-c7a6-4e6e-c912-9f242ae90a47"
      },
      "cell_type": "code",
      "source": [
        "!ls"
      ],
      "execution_count": null,
      "outputs": [
        {
          "output_type": "stream",
          "text": [
            "drive  figures.py  sample_data\n"
          ],
          "name": "stdout"
        }
      ]
    },
    {
      "metadata": {
        "id": "Po_3OSbF1vdB",
        "colab": {
          "base_uri": "https://localhost:8080/",
          "height": 263
        },
        "outputId": "a4f9658c-585c-412e-b320-6ee0398561fd"
      },
      "cell_type": "code",
      "source": [
        "import figures\n",
        "\n",
        "plt.scatter(X[y == 0, 0], X[y == 0, 1], s=40, label='0', marker='^')\n",
        "plt.scatter(X[y == 1, 0], X[y == 1, 1], s=40, label='1', c='orange', marker='x')\n",
        "\n",
        "plt.xlabel(\"first feature\")\n",
        "plt.ylabel(\"second feature\")\n",
        "figures.plot_2d_separator(classifier, X)\n",
        "plt.legend(loc='upper right');"
      ],
      "execution_count": null,
      "outputs": [
        {
          "output_type": "display_data",
          "data": {
            "image/png": "[encoded data removed]",
            "text/plain": [
              "<matplotlib.figure.Figure at 0x7f5b9a52e780>"
            ]
          },
          "metadata": {
            "tags": []
          }
        }
      ]
    },
    {
      "metadata": {
        "id": "6OplNdA81vdE"
      },
      "cell_type": "markdown",
      "source": [
        "Podemos obtener otras métricas como F-Score, etc."
      ]
    },
    {
      "metadata": {
        "id": "93-4thYs1vdF",
        "colab": {
          "base_uri": "https://localhost:8080/",
          "height": 72
        },
        "outputId": "b3ef28ce-2489-4245-9e57-724a8994f19b"
      },
      "cell_type": "code",
      "source": [
        "from sklearn.metrics import f1_score, precision_score, recall_score\n",
        "\n",
        "print('Precision:', precision_score(y_test, prediction))\n",
        "print('Recall:   ', recall_score(y_test, prediction))\n",
        "print('Fscore:   ', f1_score(y_test, prediction))"
      ],
      "execution_count": null,
      "outputs": [
        {
          "output_type": "stream",
          "text": [
            "Precision: 0.9090909090909091\n",
            "Recall:    0.8\n",
            "Fscore:    0.8510638297872342\n"
          ],
          "name": "stdout"
        }
      ]
    },
    {
      "metadata": {
        "id": "meh5EMja1vdJ"
      },
      "cell_type": "markdown",
      "source": [
        "Además es posible obtener los parámetros de la regresión:"
      ]
    },
    {
      "metadata": {
        "id": "EGvtwIih1vdK",
        "colab": {
          "base_uri": "https://localhost:8080/",
          "height": 54
        },
        "outputId": "f8a41928-2fa4-469b-b4da-ef06334eda60"
      },
      "cell_type": "code",
      "source": [
        "print(classifier.coef_)\n",
        "print(classifier.intercept_)"
      ],
      "execution_count": null,
      "outputs": [
        {
          "output_type": "stream",
          "text": [
            "[[ 1.43490868 -1.89220278]]\n",
            "[2.26160225]\n"
          ],
          "name": "stdout"
        }
      ]
    },
    {
      "metadata": {
        "id": "HQ__5iRT1vdN"
      },
      "cell_type": "code",
      "source": [
        "from sklearn.metrics import roc_auc_score, roc_curve\n"
      ],
      "execution_count": null,
      "outputs": []
    },
    {
      "metadata": {
        "id": "she2XUTOGYvW"
      },
      "cell_type": "code",
      "source": [
        "predict_proba = classifier.predict_proba(X_test)"
      ],
      "execution_count": null,
      "outputs": []
    },
    {
      "metadata": {
        "id": "U1sUsXieGcIm",
        "colab": {
          "base_uri": "https://localhost:8080/",
          "height": 35
        },
        "outputId": "36e85d79-1cb6-4284-f5be-303b858e8526"
      },
      "cell_type": "code",
      "source": [
        "type(predict_proba)"
      ],
      "execution_count": null,
      "outputs": [
        {
          "output_type": "execute_result",
          "data": {
            "text/plain": [
              "numpy.ndarray"
            ]
          },
          "metadata": {
            "tags": []
          },
          "execution_count": 32
        }
      ]
    },
    {
      "metadata": {
        "id": "PpiJ1USSGiLU",
        "colab": {
          "base_uri": "https://localhost:8080/",
          "height": 254
        },
        "outputId": "78889b49-df31-430d-9c55-f23bf6899f62"
      },
      "cell_type": "code",
      "source": [
        "predict_proba[:,1]"
      ],
      "execution_count": null,
      "outputs": [
        {
          "output_type": "execute_result",
          "data": {
            "text/plain": [
              "array([8.54699884e-01, 2.09820256e-03, 4.03376438e-03, 9.91401382e-01,\n",
              "       3.02853911e-02, 3.30481503e-02, 9.92413430e-01, 1.03746003e-02,\n",
              "       9.41087500e-01, 5.11949077e-01, 5.92657030e-01, 8.88890942e-02,\n",
              "       8.38898591e-01, 9.01181637e-01, 1.89880471e-01, 9.83642645e-01,\n",
              "       7.16066814e-03, 2.64330500e-03, 4.04198015e-01, 1.37470031e-01,\n",
              "       3.31071065e-04, 9.82327982e-01, 3.33424609e-02, 4.77260586e-02,\n",
              "       4.30597491e-01, 4.01023271e-04, 9.91914850e-01, 8.42815047e-05,\n",
              "       3.69806386e-02, 9.41660316e-01, 8.21664814e-01, 9.89379580e-01,\n",
              "       6.27704134e-04, 1.12546665e-02, 1.69344036e-02, 6.86519181e-03,\n",
              "       2.46249689e-02, 9.92017256e-01, 9.98054124e-01, 9.97276942e-01,\n",
              "       3.86648561e-04, 3.52935338e-02, 4.30516792e-03, 9.40769226e-01,\n",
              "       3.52164590e-01, 9.84417250e-01, 9.96285759e-01, 5.51540113e-03,\n",
              "       5.93045490e-01, 9.64966144e-01])"
            ]
          },
          "metadata": {
            "tags": []
          },
          "execution_count": 34
        }
      ]
    },
    {
      "metadata": {
        "id": "bLtKtZFBGy3a",
        "colab": {
          "base_uri": "https://localhost:8080/",
          "height": 35
        },
        "outputId": "aa978664-a696-4d1f-b80c-1c7c3ba90a6c"
      },
      "cell_type": "code",
      "source": [
        "roc_auc_score(y_test,predict_proba[:,1])"
      ],
      "execution_count": null,
      "outputs": [
        {
          "output_type": "execute_result",
          "data": {
            "text/plain": [
              "0.9743999999999999"
            ]
          },
          "metadata": {
            "tags": []
          },
          "execution_count": 37
        }
      ]
    },
    {
      "metadata": {
        "id": "NIEr5F-y1vdQ",
        "colab": {
          "base_uri": "https://localhost:8080/",
          "height": 35
        },
        "outputId": "7fc83eae-e76d-482b-ab92-75a53c1aa648"
      },
      "cell_type": "code",
      "source": [
        "auc = roc_auc_score(y_test,predict_proba[:,1])\n",
        "auc\n"
      ],
      "execution_count": null,
      "outputs": [
        {
          "output_type": "execute_result",
          "data": {
            "text/plain": [
              "0.9743999999999999"
            ]
          },
          "metadata": {
            "tags": []
          },
          "execution_count": 39
        }
      ]
    },
    {
      "metadata": {
        "id": "06FJg1umHjuY",
        "colab": {
          "base_uri": "https://localhost:8080/",
          "height": 35
        },
        "outputId": "56a03849-3f31-428d-9496-e4ec64092b28"
      },
      "cell_type": "code",
      "source": [
        "y_test.shape"
      ],
      "execution_count": null,
      "outputs": [
        {
          "output_type": "execute_result",
          "data": {
            "text/plain": [
              "(50,)"
            ]
          },
          "metadata": {
            "tags": []
          },
          "execution_count": 44
        }
      ]
    },
    {
      "metadata": {
        "id": "0rK0Ba1QH1Y5",
        "colab": {
          "base_uri": "https://localhost:8080/",
          "height": 35
        },
        "outputId": "45a40f3a-98c6-419d-e767-cb6e29803e98"
      },
      "cell_type": "code",
      "source": [
        "predict_proba[:,1].shape"
      ],
      "execution_count": null,
      "outputs": [
        {
          "output_type": "execute_result",
          "data": {
            "text/plain": [
              "(50,)"
            ]
          },
          "metadata": {
            "tags": []
          },
          "execution_count": 45
        }
      ]
    },
    {
      "metadata": {
        "id": "T2sNuxfdHh5e",
        "colab": {
          "base_uri": "https://localhost:8080/",
          "height": 108
        },
        "outputId": "ddf37f5c-ea8c-456c-f557-dc87694938f7"
      },
      "cell_type": "code",
      "source": [
        "roc_curve(y_test,predict_proba[:,1],pos_label=1)"
      ],
      "execution_count": null,
      "outputs": [
        {
          "output_type": "execute_result",
          "data": {
            "text/plain": [
              "(array([0.  , 0.  , 0.04, 0.04, 0.08, 0.08, 0.24, 0.24, 1.  ]),\n",
              " array([0.04, 0.72, 0.72, 0.8 , 0.8 , 0.96, 0.96, 1.  , 1.  ]),\n",
              " array([9.98054124e-01, 8.38898591e-01, 8.21664814e-01, 5.92657030e-01,\n",
              "        5.11949077e-01, 1.89880471e-01, 3.69806386e-02, 3.52935338e-02,\n",
              "        8.42815047e-05]))"
            ]
          },
          "metadata": {
            "tags": []
          },
          "execution_count": 47
        }
      ]
    },
    {
      "metadata": {
        "id": "0RXK_lHuG8iY"
      },
      "cell_type": "code",
      "source": [
        "fpr, tpr, treshold = roc_curve(y_test,predict_proba[:,1])"
      ],
      "execution_count": null,
      "outputs": []
    },
    {
      "metadata": {
        "id": "3lPutoKUF_I7",
        "colab": {
          "base_uri": "https://localhost:8080/",
          "height": 295
        },
        "outputId": "3db7427e-8357-4b01-cf75-77a4c1af31c0"
      },
      "cell_type": "code",
      "source": [
        "fig, ax = plt.subplots()\n",
        "#plot sine wave\n",
        "ax.plot(fpr, tpr, label = \"Curva ROC\")\n",
        "ax.set(xlabel='FPR', ylabel='TPR',\n",
        "       title='Curva ROC')\n",
        "ax.grid()\n",
        "\n",
        "#show the legend\n",
        "plt.legend()\n",
        "plt.show()"
      ],
      "execution_count": null,
      "outputs": [
        {
          "output_type": "display_data",
          "data": {
            "image/png": "[encoded data removed]",
            "text/plain": [
              "<matplotlib.figure.Figure at 0x7f5b99c70e48>"
            ]
          },
          "metadata": {
            "tags": []
          }
        }
      ]
    }
  ]
}